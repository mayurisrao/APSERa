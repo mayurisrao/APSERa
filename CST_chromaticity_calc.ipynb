{
 "cells": [
  {
   "cell_type": "code",
   "execution_count": null,
   "metadata": {},
   "outputs": [],
   "source": [
    "# calculate chromaticity with np.where\n",
    "def chromaticity(fit_beam_der):\n",
    "    lmax = 0\n",
    "    lmin = 0\n",
    "    lsum = 0\n",
    "    lsum1= 0\n",
    "    diffsum = 0\n",
    "    diff = 0\n",
    "    n_theta = 181\n",
    "    N_phi = 360\n",
    "    N_freq = 71\n",
    "    beam_der_fit_1 = np.zeros((n_theta-90,N_phi,N_freq-21))\n",
    "    for i in range(n_theta-90):\n",
    "        for j in range(N_phi):\n",
    "            for k in range(N_freq-21):\n",
    "                beam_der_fit_1[i][j][k] = fit_beam_der[k][i][j]\n",
    "    for i in range(n_theta-90):\n",
    "        for j in range(N_phi):\n",
    "            l = beam_der_fit_1[i][j]\n",
    "            f = np.where(np.diff(np.signbit(l)))[0]\n",
    "            f1 = f+1\n",
    "            if len(f) > 0:\n",
    "                temp_split = np.split(l,f1)\n",
    "                #print(temp_split)\n",
    "                for d in range(len(temp_split)):\n",
    "                    lmax = np.max(abs(temp_split[d]))\n",
    "                    lmin = np.min(abs(temp_split[d]))\n",
    "                    lsum1 = lsum1 + lmax + lmin\n",
    "                    diff = lmax-lmin\n",
    "                    diffsum = diffsum  + diff\n",
    "                    lsum = lsum + lmax\n",
    "            else:\n",
    "                lsum1 = lsum1 + np.max(abs(l)) + np.min(abs(l))\n",
    "                lsum = lsum + np.max(abs(l))  \n",
    "                diff = np.max(abs(l)) - np.min(abs(l))\n",
    "                diffsum = diffsum + diff\n",
    "    return diffsum "
   ]
  }
 ],
 "metadata": {
  "kernelspec": {
   "display_name": "Python 3",
   "language": "python",
   "name": "python3"
  },
  "language_info": {
   "codemirror_mode": {
    "name": "ipython",
    "version": 3
   },
   "file_extension": ".py",
   "mimetype": "text/x-python",
   "name": "python",
   "nbconvert_exporter": "python",
   "pygments_lexer": "ipython3",
   "version": "3.7.3"
  }
 },
 "nbformat": 4,
 "nbformat_minor": 2
}
