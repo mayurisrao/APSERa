{
 "cells": [
  {
   "cell_type": "code",
   "execution_count": 4,
   "id": "bea4423d",
   "metadata": {},
   "outputs": [
    {
     "name": "stdout",
     "output_type": "stream",
     "text": [
      "Best-Fit Temperature of CMB: 3.0 Kelvin\n"
     ]
    }
   ],
   "source": [
    "#Dinesh Hebbar\n",
    "#CMB blackbody temperature using data ffrom FIRAS\n",
    "\n",
    "import numpy as np\n",
    "from scipy.optimize import curve_fit\n",
    "\n",
    "# Planck's equation for spectral radiance as a function of wavelength and temperature\n",
    "\n",
    "def planck_equation(wavelength, temperature):\n",
    "    # Constants\n",
    "    h = 6.626e-34  # Planck's constant in J·s\n",
    "    c = 3e10      # Speed of light in cm/s\n",
    "    k = 1.38e-23  # Boltzmann's constant in J/K\n",
    "    \n",
    "    # Calculate spectral radiance using Planck's equation\n",
    "    return (2 * h * c**2 / (wavelength**5)) * (1 / (np.exp(h * c / (wavelength * k * temperature)) - 1))\n",
    "\n",
    "# frequency and monopole spectrum values obtained from FIRAS spectrum dataset \n",
    "\n",
    "frequency_cm_inv = [\n",
    "    2.27, 2.72, 3.18, 3.63, 4.08, 4.54, 4.99, 5.45, 5.90, 6.35,\n",
    "    6.81, 7.26, 7.71, 8.17, 8.62, 9.08, 9.53, 9.98, 10.44, 10.89,\n",
    "    11.34, 11.80, 12.25, 12.71, 13.16, 13.61, 14.07, 14.52, 14.97, 15.43,\n",
    "    15.88, 16.34, 16.79, 17.24, 17.70, 18.15, 18.61, 19.06, 19.51, 19.97,\n",
    "    20.42, 20.87, 21.33\n",
    "]\n",
    "\n",
    "firas_spectrum_mjy_sr = [\n",
    "    200.723, 249.508, 293.024, 327.770, 354.081, 372.079, 381.493, 383.478, 378.901, 368.833,\n",
    "    354.063, 336.278, 316.076, 293.924, 271.432, 248.239, 225.940, 204.327, 183.262, 163.830,\n",
    "    145.750, 128.835, 113.568, 99.451, 87.036, 75.876, 65.766, 57.008, 49.223, 42.267,\n",
    "    36.352, 31.062, 26.580, 22.644, 19.255, 16.391, 13.811, 11.716, 9.921, 8.364, 7.087,\n",
    "    5.801, 4.523\n",
    "]\n",
    "\n",
    "# Converting frequency to wavelength\n",
    "wavelength_cm = 1 / np.array(frequency_cm_inv)\n",
    "\n",
    "# Initial guess for temperature in kelvin\n",
    "initial_temperature = 3 \n",
    "\n",
    "# curve fitting to find the best-fit temperature\n",
    "best_fit_params, _ = curve_fit(planck_equation, wavelength_cm, firas_spectrum_mjy_sr, p0=[initial_temperature])\n",
    "\n",
    "# Extract the best-fit temperature\n",
    "best_fit_temperature = best_fit_params[0]\n",
    "\n",
    "# Print the result\n",
    "print(\"Best-Fit Temperature of CMB:\", best_fit_temperature, \"Kelvin\")\n"
   ]
  },
  {
   "cell_type": "code",
   "execution_count": null,
   "id": "92d9aca1",
   "metadata": {},
   "outputs": [],
   "source": []
  }
 ],
 "metadata": {
  "kernelspec": {
   "display_name": "Python 3 (ipykernel)",
   "language": "python",
   "name": "python3"
  },
  "language_info": {
   "codemirror_mode": {
    "name": "ipython",
    "version": 3
   },
   "file_extension": ".py",
   "mimetype": "text/x-python",
   "name": "python",
   "nbconvert_exporter": "python",
   "pygments_lexer": "ipython3",
   "version": "3.9.16"
  }
 },
 "nbformat": 4,
 "nbformat_minor": 5
}
