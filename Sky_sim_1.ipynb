{
 "cells": [
  {
   "cell_type": "code",
   "execution_count": 4,
   "id": "94e6db35",
   "metadata": {
    "scrolled": true
   },
   "outputs": [],
   "source": [
    "import healpy as hp\n",
    "import numpy as np\n",
    "import matplotlib.pyplot as plt\n",
    "\n",
    "%matplotlib inline\n",
    "\n",
    "import pygsm\n",
    "from pygsm import GlobalSkyModel\n",
    "\n",
    "import ephem\n",
    "from astropy.time import Time\n",
    "from astropy.coordinates import Galactic, SkyCoord, FK5, EarthLocation, AltAz\n",
    "import astropy.units as u\n",
    "\n",
    "import pandas as pd"
   ]
  },
  {
   "cell_type": "code",
   "execution_count": 5,
   "id": "2ea9b4f6",
   "metadata": {},
   "outputs": [
    {
     "name": "stdout",
     "output_type": "stream",
     "text": [
      "8:03:15.25\n",
      "7h46m36.80619804s\n",
      "6h26m36.80619872s\n",
      "<SkyCoord (Galactic): (l, b) in deg\n",
      "    (180.27745296, 29.60577826)>\n"
     ]
    }
   ],
   "source": [
    "#Sidereal time calculation\n",
    "\n",
    "\n",
    "Obs = ephem.Observer()\n",
    "Obs.lon = '10.00'\n",
    "Obs.date = '2003/5/9 16:15:00.000'\n",
    "\n",
    "print(Obs.sidereal_time())\n",
    "\n",
    "t = Time('2021-05-09 15:16:00.0000', scale='utc',location=('20', '0'))\n",
    "lst = t.sidereal_time('apparent')\n",
    "print(lst)\n",
    "print(t.sidereal_time('apparent', 'greenwich'))\n",
    "\n",
    "a = SkyCoord(ra = 120 *u.deg, dec= 40 *u.deg, frame = 'icrs')\n",
    "print(a.transform_to(Galactic))"
   ]
  },
  {
   "cell_type": "code",
   "execution_count": 6,
   "id": "875e5982",
   "metadata": {},
   "outputs": [
    {
     "name": "stdout",
     "output_type": "stream",
     "text": [
      "3072\n",
      "[0.04005938 0.03894005 0.03734413 ... 0.03294453 0.03381297 0.03314329]\n",
      "(3072,)\n"
     ]
    },
    {
     "ename": "NameError",
     "evalue": "name 'T' is not defined",
     "output_type": "error",
     "traceback": [
      "\u001b[0;31m---------------------------------------------------------------------------\u001b[0m",
      "\u001b[0;31mNameError\u001b[0m                                 Traceback (most recent call last)",
      "Input \u001b[0;32mIn [6]\u001b[0m, in \u001b[0;36m<cell line: 39>\u001b[0;34m()\u001b[0m\n\u001b[1;32m     32\u001b[0m             spectrum[i\u001b[38;5;241m-\u001b[39m\u001b[38;5;241m1\u001b[39m] \u001b[38;5;241m=\u001b[39m \u001b[38;5;241m-\u001b[39m\u001b[38;5;241m1.6375e+30\u001b[39m\n\u001b[1;32m     34\u001b[0m         i \u001b[38;5;241m=\u001b[39m i\u001b[38;5;241m+\u001b[39m\u001b[38;5;241m1\u001b[39m  \n\u001b[0;32m---> 39\u001b[0m spectrum_value \u001b[38;5;241m=\u001b[39m \u001b[43mVisible_Sky\u001b[49m\u001b[43m(\u001b[49m\u001b[38;5;241;43m2\u001b[39;49m\u001b[43m)\u001b[49m\u001b[38;5;66;03m#,10,10,200,\"2022-05-15T12:00:00\")\u001b[39;00m\n\u001b[1;32m     41\u001b[0m np\u001b[38;5;241m.\u001b[39msize(spectrum_value)\n\u001b[1;32m     42\u001b[0m hp\u001b[38;5;241m.\u001b[39mmollview(spectrum_value(\u001b[38;5;28mmin\u001b[39m\u001b[38;5;241m=\u001b[39m\u001b[38;5;241m-\u001b[39m\u001b[38;5;241m1e-6\u001b[39m, \u001b[38;5;28mmax\u001b[39m\u001b[38;5;241m=\u001b[39m\u001b[38;5;241m1e-6\u001b[39m))\n",
      "Input \u001b[0;32mIn [6]\u001b[0m, in \u001b[0;36mVisible_Sky\u001b[0;34m(frequency)\u001b[0m\n\u001b[1;32m     26\u001b[0m coords \u001b[38;5;241m=\u001b[39m hp\u001b[38;5;241m.\u001b[39mpixelfunc\u001b[38;5;241m.\u001b[39mpix2ang(\u001b[38;5;241m16\u001b[39m, i , nest \u001b[38;5;241m=\u001b[39m \u001b[38;5;28;01mFalse\u001b[39;00m, lonlat \u001b[38;5;241m=\u001b[39m \u001b[38;5;28;01mTrue\u001b[39;00m)\n\u001b[1;32m     27\u001b[0m gc \u001b[38;5;241m=\u001b[39m SkyCoord(l \u001b[38;5;241m=\u001b[39m coords[\u001b[38;5;241m0\u001b[39m]\u001b[38;5;241m*\u001b[39mu\u001b[38;5;241m.\u001b[39mdegree, b\u001b[38;5;241m=\u001b[39m coords[\u001b[38;5;241m1\u001b[39m]\u001b[38;5;241m*\u001b[39mu\u001b[38;5;241m.\u001b[39mdegree, frame \u001b[38;5;241m=\u001b[39m \u001b[38;5;124m'\u001b[39m\u001b[38;5;124mgalactic\u001b[39m\u001b[38;5;124m'\u001b[39m)\n\u001b[0;32m---> 29\u001b[0m equi \u001b[38;5;241m=\u001b[39m gc\u001b[38;5;241m.\u001b[39mtransform_to(AltAz(obstime \u001b[38;5;241m=\u001b[39m \u001b[43mT\u001b[49m, location \u001b[38;5;241m=\u001b[39m EarthLocation(lat \u001b[38;5;241m=\u001b[39m latitude\u001b[38;5;241m*\u001b[39mu\u001b[38;5;241m.\u001b[39mdeg, lon\u001b[38;5;241m=\u001b[39mlongitude\u001b[38;5;241m*\u001b[39mu\u001b[38;5;241m.\u001b[39mdeg, height\u001b[38;5;241m=\u001b[39maltitude\u001b[38;5;241m*\u001b[39mu\u001b[38;5;241m.\u001b[39mm)))\n\u001b[1;32m     31\u001b[0m \u001b[38;5;28;01mif\u001b[39;00m (equi\u001b[38;5;241m.\u001b[39malt\u001b[38;5;241m<\u001b[39m\u001b[38;5;241m0\u001b[39m):\n\u001b[1;32m     32\u001b[0m     spectrum[i\u001b[38;5;241m-\u001b[39m\u001b[38;5;241m1\u001b[39m] \u001b[38;5;241m=\u001b[39m \u001b[38;5;241m-\u001b[39m\u001b[38;5;241m1.6375e+30\u001b[39m\n",
      "\u001b[0;31mNameError\u001b[0m: name 'T' is not defined"
     ]
    }
   ],
   "source": [
    "#Healpy map of visible region of sky in a location at a time\n",
    "\n",
    "\n",
    "gsm = GlobalSkyModel(freq_unit='GHz')\n",
    "\n",
    "\n",
    "NPIX = hp.nside2npix(16)\n",
    "print(NPIX)\n",
    "\n",
    "spec = gsm.generate(2)\n",
    "print(spec)\n",
    "#plt.imshow(spec, vmin=-2.e-5, vmax=2.e-4)\n",
    "#hp.mollview(spec, norm = None,vmin=-1e-6, vmax=1e-6)\n",
    "\n",
    "spec = hp.pixelfunc.ud_grade(spec,16)\n",
    "print(spec.shape)\n",
    "\n",
    "def Visible_Sky(frequency):#, latitude, longitude, altitude, T):\n",
    "    spectrum = gsm.generate(frequency)\n",
    "    spectrum = hp.pixelfunc.ud_grade(spectrum, 16)\n",
    "   # hp.visufunc.mollview(spectrum)\n",
    "\n",
    "    i=1\n",
    "\n",
    "    while i<NPIX:\n",
    "        coords = hp.pixelfunc.pix2ang(16, i , nest = False, lonlat = True)\n",
    "        gc = SkyCoord(l = coords[0]*u.degree, b= coords[1]*u.degree, frame = 'galactic')\n",
    "    \n",
    "        equi = gc.transform_to(AltAz(obstime = T, location = EarthLocation(lat = latitude*u.deg, lon=longitude*u.deg, height=altitude*u.m)))\n",
    "\n",
    "        if (equi.alt<0):\n",
    "            spectrum[i-1] = -1.6375e+30\n",
    "    \n",
    "        i = i+1  \n",
    "    \n",
    "\n",
    "        \n",
    "           \n",
    "spectrum_value = Visible_Sky(2)#,10,10,200,\"2022-05-15T12:00:00\")\n",
    "\n",
    "np.size(spectrum_value)\n",
    "hp.mollview(spectrum_value(min=-1e-6, max=1e-6))"
   ]
  },
  {
   "cell_type": "code",
   "execution_count": 7,
   "id": "719f66ee",
   "metadata": {},
   "outputs": [
    {
     "name": "stdout",
     "output_type": "stream",
     "text": [
      "2001-01-02T12:34:56.092\n",
      "<SkyCoord (Galactic): (l, b) in deg\n",
      "    (45., 45.)>\n",
      "<SkyCoord (FK5: equinox=B2000.000): (ra, dec) in deg\n",
      "    (243.76172139, 27.00079808)>\n",
      "<SkyCoord (FK5: equinox=B1950.000): (ra, dec) in deg\n",
      "    (243.24854413, 27.12498657)>\n",
      "<SkyCoord (AltAz: obstime=2001-01-02T12:34:56.000, location=(1322691.97697601, -4612775.10525862, 4187510.55271101) m, pressure=0.0 hPa, temperature=0.0 deg_C, relative_humidity=0.0, obswl=1.0 micron): (az, alt) in deg\n",
      "    (114.57095509, 63.76845192)>\n",
      "<SkyCoord (FK5: equinox=B1950.000): (ra, dec) in deg\n",
      "    (243.24854413, 27.12498657)>\n"
     ]
    }
   ],
   "source": [
    "#Coordinate transformation\n",
    "\n",
    "t = Time('2001-01-02T12:34:56')\n",
    "\n",
    "t1 = t.ut1\n",
    "print(t1)\n",
    "gc = SkyCoord(l = 45*u.degree, b= 45*u.degree, frame = 'galactic')\n",
    "print(gc)\n",
    "\n",
    "#gc = SkyCoord(l = 45*u.degree, b= 45*u.degree, frame = 'galactic', equinox = 'B1950')\n",
    "#print(gc)\n",
    "\n",
    "radec1 = gc.transform_to(FK5(equinox = 'B2000'))\n",
    "print(radec1)\n",
    "radec2 = gc.transform_to(FK5(equinox = 'B1950'))\n",
    "print(radec2)\n",
    "\n",
    "Alt = radec1.transform_to(AltAz(obstime = '2001-01-02T12:34:56', location = EarthLocation(lat = 41.3*u.deg, lon=-74*u.deg, height=0*u.m)))\n",
    "print(Alt)\n",
    "\n",
    "Alt2 = Alt.transform_to(FK5(equinox = 'B1950'))\n",
    "print(Alt2)\n",
    "\n"
   ]
  },
  {
   "cell_type": "code",
   "execution_count": 8,
   "id": "5341d51d",
   "metadata": {},
   "outputs": [
    {
     "name": "stderr",
     "output_type": "stream",
     "text": [
      "/tmp/ipykernel_9356/2637061636.py:4: ParserWarning: Falling back to the 'python' engine because the 'c' engine does not support regex separators (separators > 1 char and different from '\\s+' are interpreted as regex); you can avoid this warning by specifying engine='python'.\n",
      "  df = pd.read_csv(r'/home/dhashin/Downloads/total_spec_new.txt',sep= \"    \" ,header = None)\n"
     ]
    },
    {
     "name": "stdout",
     "output_type": "stream",
     "text": [
      "        Frequency     Intensity\n",
      "0        0.009984  1.255914e-32\n",
      "1        0.010003  1.258055e-32\n",
      "2        0.010022  1.260196e-32\n",
      "3        0.010041  1.262337e-32\n",
      "4        0.010061  1.264478e-32\n",
      "...           ...           ...\n",
      "6835  4966.790300  2.870275e-33\n",
      "6836  4976.331500  2.601257e-33\n",
      "6837  4985.890900  2.353869e-33\n",
      "6838  4995.468700  2.126862e-33\n",
      "6839  5005.064900  1.918862e-33\n",
      "\n",
      "[6840 rows x 2 columns]\n"
     ]
    },
    {
     "data": {
      "image/png": "[encoded data removed]",
      "text/plain": [
       "<Figure size 432x288 with 1 Axes>"
      ]
     },
     "metadata": {
      "needs_background": "light"
     },
     "output_type": "display_data"
    }
   ],
   "source": [
    "import pandas as pd\n",
    "\n",
    "#a= np.loadtxt(r'/home/dhashin/Downloads/total_spec_new.dat')\n",
    "df = pd.read_csv(r'/home/dhashin/Downloads/total_spec_new.txt',sep= \"    \" ,header = None)\n",
    "\n",
    "\n",
    "df.reset_index(drop=True, inplace=True)\n",
    "df.columns = [\"Frequency\",\"Intensity\"]\n",
    "print(df)\n",
    "\n",
    "plt.plot(df[\"Frequency\"],df[\"Intensity\"])\n",
    "plt.xlim(0,100)\n",
    "plt.xlabel('Frequency(GHz)')\n",
    "plt.ylabel('Intensity()')\n",
    "\n",
    "\n",
    "plt.show()"
   ]
  },
  {
   "cell_type": "code",
   "execution_count": 9,
   "id": "c0ecba14",
   "metadata": {},
   "outputs": [],
   "source": [
    "from scipy.interpolate import Rbf, InterpolatedUnivariateSpline\n",
    "\n",
    "x = df[\"Frequency\"]\n",
    "y= df[\"Intensity\"]\n",
    "\n",
    "ius = InterpolatedUnivariateSpline(x, y)\n",
    "\n"
   ]
  },
  {
   "cell_type": "code",
   "execution_count": 10,
   "id": "bd92fc52",
   "metadata": {},
   "outputs": [
    {
     "name": "stdout",
     "output_type": "stream",
     "text": [
      "(21, 3072)\n",
      "<class 'numpy.float64'>\n",
      "<class 'list'>\n",
      "1\n",
      "0\n",
      "<class 'list'>\n",
      "[9.080737647917299e-21, 1.0375483577080737e-20, 1.1774374012451249e-20, 1.3279221469799503e-20, 1.489162710309294e-20, 1.661298890354029e-20, 1.844450966772561e-20, 2.0387204740330672e-20, 2.2441909536826865e-20, 2.4609286851402196e-20, 2.688983395527587e-20, 2.9283889490442074e-20, 3.179164016377571e-20, 3.441312724632649e-20, 3.7148252882523374e-20, 3.999678621390888e-20, 4.295836932192296e-20, 4.603252299415721e-20, 4.921865231840476e-20, 5.2516052108736146e-20, 5.592391216773956e-20]\n"
     ]
    }
   ],
   "source": [
    "import numpy as np\n",
    "import pandas as pd\n",
    "\n",
    "from pygsm import GlobalSkyModel\n",
    "import healpy as hp\n",
    "\n",
    "\n",
    "import math\n",
    "h = 6.62607157e-34\n",
    "k = 1.3806488e-23\n",
    "c = 2.99792458e+08\n",
    "TCMB = 2.72548\n",
    "T_Cold = 273\n",
    "T_Hot = 373\n",
    "\n",
    "def rj_to_CMB(freq):\n",
    "    return (math.pow(h*freq/k*TCMB, 2) * math.exp(h*freq/k*TCMB))/(math.pow(math.exp(h*freq/k*TCMB) - 1, 2))  \n",
    "\n",
    "gsm = GlobalSkyModel(freq_unit='GHz')\n",
    "freqs = np.linspace(2, 4, 21)\n",
    "spectrum = gsm.generate(freqs)\n",
    "#print(spectrum.shape)\n",
    "spectrum = hp.pixelfunc.ud_grade(spectrum, 16)\n",
    "print(spectrum.shape)\n",
    "\n",
    "df = pd.DataFrame(spectrum)\n",
    "df = df.transpose()\n",
    "\n",
    "\n",
    "df.columns = np.arange(2,4.1,0.1)\n",
    "\n",
    "for column in df:\n",
    "    df = (df * rj_to_CMB(float(column) *1000000000))\n",
    "    \n",
    "df = df + TCMB\n",
    "print(type(df.columns[0]))\n",
    "\n",
    "i = 0\n",
    "CMB_Int = [None]*21 \n",
    "P_Cold = [None]*21\n",
    "P_Hot = [None]*21\n",
    "P_Dif = [None]*21\n",
    "P_Sky_mul_T = [None]*21\n",
    "T_Sky = [None]*21\n",
    "y_new = [None]*21\n",
    "\n",
    "print(type(P_Dif))\n",
    "while i<21:\n",
    "    y_new[i] = ius(freqs[i])\n",
    "   \n",
    "\n",
    "\n",
    "    CMB_Int[i] = (2*h*math.pow(df.columns[i]*1e9,3.0)/(c*c*math.exp(h*df.columns[i]*1e9/k*TCMB)-1)) \n",
    "    P_Cold[i] = 0\n",
    "    P_Hot[i] = 1\n",
    "    P_Dif[i] = P_Hot[i]-P_Cold[i] \n",
    "\n",
    "    T_Sky[i] = CMB_Int[i]*100/P_Dif[i]\n",
    "\n",
    "\n",
    "    i = i+1\n",
    "\n",
    "print(P_Hot[0])\n",
    "print(P_Cold[0])\n",
    "print(type(y_new))\n",
    "print(T_Sky)"
   ]
  },
  {
   "cell_type": "code",
   "execution_count": null,
   "id": "07620409",
   "metadata": {},
   "outputs": [],
   "source": [
    "\n",
    "j=0\n",
    "\n",
    "while j<21:\n",
    "    Intensity[i] = CMB_Int[j] + y_new[j]+ ((2*df.columns[j]*1e9*df.columns[j]*1e9*k*ctemp)/(c*c))*(c*c/df.columns[j]*df.columns[j])  \n",
    "    final_temp = (Intensity / P_Dif)* (T_Hot - T_Cold)\n",
    "\n"
   ]
  },
  {
   "cell_type": "code",
   "execution_count": null,
   "id": "5901dc09",
   "metadata": {
    "scrolled": true
   },
   "outputs": [],
   "source": []
  },
  {
   "cell_type": "code",
   "execution_count": null,
   "id": "9f506c5e",
   "metadata": {},
   "outputs": [],
   "source": [
    "\n",
    "    \n",
    "    "
   ]
  },
  {
   "cell_type": "code",
   "execution_count": null,
   "id": "bda6fb30",
   "metadata": {},
   "outputs": [],
   "source": []
  },
  {
   "cell_type": "code",
   "execution_count": null,
   "id": "0c525cc9",
   "metadata": {},
   "outputs": [],
   "source": []
  },
  {
   "cell_type": "code",
   "execution_count": null,
   "id": "98c68763",
   "metadata": {},
   "outputs": [],
   "source": []
  }
 ],
 "metadata": {
  "kernelspec": {
   "display_name": "Python 3 (ipykernel)",
   "language": "python",
   "name": "python3"
  },
  "language_info": {
   "codemirror_mode": {
    "name": "ipython",
    "version": 3
   },
   "file_extension": ".py",
   "mimetype": "text/x-python",
   "name": "python",
   "nbconvert_exporter": "python",
   "pygments_lexer": "ipython3",
   "version": "3.9.12"
  }
 },
 "nbformat": 4,
 "nbformat_minor": 5
}
