{
 "cells": [
  {
   "cell_type": "code",
   "execution_count": 8,
   "id": "94e6db35",
   "metadata": {
    "scrolled": true
   },
   "outputs": [],
   "source": [
    "import healpy as hp\n",
    "import numpy as np\n",
    "import matplotlib.pyplot as plt\n",
    "\n",
    "%matplotlib inline\n",
    "\n",
    "import pygsm\n",
    "from pygsm import GlobalSkyModel\n",
    "\n",
    "import ephem\n",
    "from astropy.time import Time\n",
    "from astropy.coordinates import Galactic, SkyCoord, FK5, EarthLocation, AltAz\n",
    "import astropy.units as u"
   ]
  },
  {
   "cell_type": "code",
   "execution_count": 9,
   "id": "2ea9b4f6",
   "metadata": {},
   "outputs": [
    {
     "name": "stdout",
     "output_type": "stream",
     "text": [
      "6:24:39.72\n",
      "6h24m39.62534428s\n",
      "6h24m39.62534498s\n",
      "<SkyCoord (Galactic): (l, b) in deg\n",
      "    (180.27745296, 29.60577826)>\n"
     ]
    }
   ],
   "source": [
    "#Sidereal time calculation\n",
    "\n",
    "\n",
    "Obs = ephem.Observer()\n",
    "Obs.lon = '0.00'\n",
    "Obs.date = '2022/5/9 15:15:00.000'\n",
    "\n",
    "print(Obs.sidereal_time())\n",
    "\n",
    "t = Time('2022-05-09 15:15:00.0000', scale='utc',location=('0d', '0'))\n",
    "print(t.sidereal_time('apparent'))\n",
    "print(t.sidereal_time('apparent', 'greenwich'))\n",
    "\n",
    "a = SkyCoord(ra = 120 *u.deg, dec= 40 *u.deg, frame = 'icrs')\n",
    "print(a.transform_to(Galactic))"
   ]
  },
  {
   "cell_type": "code",
   "execution_count": 29,
   "id": "875e5982",
   "metadata": {},
   "outputs": [
    {
     "name": "stdout",
     "output_type": "stream",
     "text": [
      "3072\n"
     ]
    },
    {
     "ename": "ValueError",
     "evalue": "Passing parameters norm and vmin/vmax simultaneously is not supported. Please pass vmin/vmax directly to the norm when creating it.",
     "output_type": "error",
     "traceback": [
      "\u001b[0;31m---------------------------------------------------------------------------\u001b[0m",
      "\u001b[0;31mValueError\u001b[0m                                Traceback (most recent call last)",
      "Input \u001b[0;32mIn [29]\u001b[0m, in \u001b[0;36m<cell line: 11>\u001b[0;34m()\u001b[0m\n\u001b[1;32m      8\u001b[0m \u001b[38;5;28mprint\u001b[39m(NPIX)\n\u001b[1;32m     10\u001b[0m spec \u001b[38;5;241m=\u001b[39m gsm\u001b[38;5;241m.\u001b[39mgenerate(\u001b[38;5;241m2\u001b[39m)\n\u001b[0;32m---> 11\u001b[0m \u001b[43mhp\u001b[49m\u001b[38;5;241;43m.\u001b[39;49m\u001b[43mvisufunc\u001b[49m\u001b[38;5;241;43m.\u001b[39;49m\u001b[43mmollview\u001b[49m\u001b[43m(\u001b[49m\u001b[43mspec\u001b[49m\u001b[43m)\u001b[49m\n\u001b[1;32m     13\u001b[0m spec \u001b[38;5;241m=\u001b[39m hp\u001b[38;5;241m.\u001b[39mpixelfunc\u001b[38;5;241m.\u001b[39mud_grade(spec,\u001b[38;5;241m16\u001b[39m)\n\u001b[1;32m     14\u001b[0m \u001b[38;5;28mprint\u001b[39m(spec\u001b[38;5;241m.\u001b[39mshape)\n",
      "File \u001b[0;32m~/anaconda3/lib/python3.9/site-packages/healpy/visufunc.py:250\u001b[0m, in \u001b[0;36mmollview\u001b[0;34m(map, fig, rot, coord, unit, xsize, title, nest, min, max, flip, remove_dip, remove_mono, gal_cut, format, format2, cbar, cmap, badcolor, bgcolor, notext, norm, hold, reuse_axes, margins, sub, nlocs, return_projected_map)\u001b[0m\n\u001b[1;32m    246\u001b[0m \u001b[38;5;28;01melif\u001b[39;00m remove_mono:\n\u001b[1;32m    247\u001b[0m     \u001b[38;5;28mmap\u001b[39m \u001b[38;5;241m=\u001b[39m pixelfunc\u001b[38;5;241m.\u001b[39mremove_monopole(\n\u001b[1;32m    248\u001b[0m         \u001b[38;5;28mmap\u001b[39m, gal_cut\u001b[38;5;241m=\u001b[39mgal_cut, nest\u001b[38;5;241m=\u001b[39mnest, copy\u001b[38;5;241m=\u001b[39m\u001b[38;5;28;01mTrue\u001b[39;00m, verbose\u001b[38;5;241m=\u001b[39m\u001b[38;5;28;01mTrue\u001b[39;00m\n\u001b[1;32m    249\u001b[0m     )\n\u001b[0;32m--> 250\u001b[0m img \u001b[38;5;241m=\u001b[39m \u001b[43max\u001b[49m\u001b[38;5;241;43m.\u001b[39;49m\u001b[43mprojmap\u001b[49m\u001b[43m(\u001b[49m\n\u001b[1;32m    251\u001b[0m \u001b[43m    \u001b[49m\u001b[38;5;28;43mmap\u001b[39;49m\u001b[43m,\u001b[49m\n\u001b[1;32m    252\u001b[0m \u001b[43m    \u001b[49m\u001b[43mnest\u001b[49m\u001b[38;5;241;43m=\u001b[39;49m\u001b[43mnest\u001b[49m\u001b[43m,\u001b[49m\n\u001b[1;32m    253\u001b[0m \u001b[43m    \u001b[49m\u001b[43mxsize\u001b[49m\u001b[38;5;241;43m=\u001b[39;49m\u001b[43mxsize\u001b[49m\u001b[43m,\u001b[49m\n\u001b[1;32m    254\u001b[0m \u001b[43m    \u001b[49m\u001b[43mcoord\u001b[49m\u001b[38;5;241;43m=\u001b[39;49m\u001b[43mcoord\u001b[49m\u001b[43m,\u001b[49m\n\u001b[1;32m    255\u001b[0m \u001b[43m    \u001b[49m\u001b[43mvmin\u001b[49m\u001b[38;5;241;43m=\u001b[39;49m\u001b[38;5;28;43mmin\u001b[39;49m\u001b[43m,\u001b[49m\n\u001b[1;32m    256\u001b[0m \u001b[43m    \u001b[49m\u001b[43mvmax\u001b[49m\u001b[38;5;241;43m=\u001b[39;49m\u001b[38;5;28;43mmax\u001b[39;49m\u001b[43m,\u001b[49m\n\u001b[1;32m    257\u001b[0m \u001b[43m    \u001b[49m\u001b[43mcmap\u001b[49m\u001b[38;5;241;43m=\u001b[39;49m\u001b[43mcmap\u001b[49m\u001b[43m,\u001b[49m\n\u001b[1;32m    258\u001b[0m \u001b[43m    \u001b[49m\u001b[43mbadcolor\u001b[49m\u001b[38;5;241;43m=\u001b[39;49m\u001b[43mbadcolor\u001b[49m\u001b[43m,\u001b[49m\n\u001b[1;32m    259\u001b[0m \u001b[43m    \u001b[49m\u001b[43mbgcolor\u001b[49m\u001b[38;5;241;43m=\u001b[39;49m\u001b[43mbgcolor\u001b[49m\u001b[43m,\u001b[49m\n\u001b[1;32m    260\u001b[0m \u001b[43m    \u001b[49m\u001b[43mnorm\u001b[49m\u001b[38;5;241;43m=\u001b[39;49m\u001b[43mnorm\u001b[49m\u001b[43m,\u001b[49m\n\u001b[1;32m    261\u001b[0m \u001b[43m\u001b[49m\u001b[43m)\u001b[49m\n\u001b[1;32m    262\u001b[0m \u001b[38;5;28;01mif\u001b[39;00m cbar:\n\u001b[1;32m    263\u001b[0m     im \u001b[38;5;241m=\u001b[39m ax\u001b[38;5;241m.\u001b[39mget_images()[\u001b[38;5;241m0\u001b[39m]\n",
      "File \u001b[0;32m~/anaconda3/lib/python3.9/site-packages/healpy/projaxes.py:736\u001b[0m, in \u001b[0;36mHpxMollweideAxes.projmap\u001b[0;34m(self, map, nest, **kwds)\u001b[0m\n\u001b[1;32m    734\u001b[0m nside \u001b[38;5;241m=\u001b[39m pixelfunc\u001b[38;5;241m.\u001b[39mnpix2nside(pixelfunc\u001b[38;5;241m.\u001b[39mget_map_size(\u001b[38;5;28mmap\u001b[39m))\n\u001b[1;32m    735\u001b[0m f \u001b[38;5;241m=\u001b[39m \u001b[38;5;28;01mlambda\u001b[39;00m x, y, z: pixelfunc\u001b[38;5;241m.\u001b[39mvec2pix(nside, x, y, z, nest\u001b[38;5;241m=\u001b[39mnest)\n\u001b[0;32m--> 736\u001b[0m \u001b[38;5;28;01mreturn\u001b[39;00m \u001b[38;5;28;43msuper\u001b[39;49m\u001b[43m(\u001b[49m\u001b[43mHpxMollweideAxes\u001b[49m\u001b[43m,\u001b[49m\u001b[43m \u001b[49m\u001b[38;5;28;43mself\u001b[39;49m\u001b[43m)\u001b[49m\u001b[38;5;241;43m.\u001b[39;49m\u001b[43mprojmap\u001b[49m\u001b[43m(\u001b[49m\u001b[38;5;28;43mmap\u001b[39;49m\u001b[43m,\u001b[49m\u001b[43m \u001b[49m\u001b[43mf\u001b[49m\u001b[43m,\u001b[49m\u001b[43m \u001b[49m\u001b[38;5;241;43m*\u001b[39;49m\u001b[38;5;241;43m*\u001b[39;49m\u001b[43mkwds\u001b[49m\u001b[43m)\u001b[49m\n",
      "File \u001b[0;32m~/anaconda3/lib/python3.9/site-packages/healpy/projaxes.py:726\u001b[0m, in \u001b[0;36mMollweideAxes.projmap\u001b[0;34m(self, map, vec2pix_func, xsize, **kwds)\u001b[0m\n\u001b[1;32m    724\u001b[0m \u001b[38;5;28;01mdef\u001b[39;00m \u001b[38;5;21mprojmap\u001b[39m(\u001b[38;5;28mself\u001b[39m, \u001b[38;5;28mmap\u001b[39m, vec2pix_func, xsize\u001b[38;5;241m=\u001b[39m\u001b[38;5;241m800\u001b[39m, \u001b[38;5;241m*\u001b[39m\u001b[38;5;241m*\u001b[39mkwds):\n\u001b[1;32m    725\u001b[0m     \u001b[38;5;28mself\u001b[39m\u001b[38;5;241m.\u001b[39mproj\u001b[38;5;241m.\u001b[39mset_proj_plane_info(xsize\u001b[38;5;241m=\u001b[39mxsize)\n\u001b[0;32m--> 726\u001b[0m     img \u001b[38;5;241m=\u001b[39m \u001b[38;5;28;43msuper\u001b[39;49m\u001b[43m(\u001b[49m\u001b[43mMollweideAxes\u001b[49m\u001b[43m,\u001b[49m\u001b[43m \u001b[49m\u001b[38;5;28;43mself\u001b[39;49m\u001b[43m)\u001b[49m\u001b[38;5;241;43m.\u001b[39;49m\u001b[43mprojmap\u001b[49m\u001b[43m(\u001b[49m\u001b[38;5;28;43mmap\u001b[39;49m\u001b[43m,\u001b[49m\u001b[43m \u001b[49m\u001b[43mvec2pix_func\u001b[49m\u001b[43m,\u001b[49m\u001b[43m \u001b[49m\u001b[38;5;241;43m*\u001b[39;49m\u001b[38;5;241;43m*\u001b[39;49m\u001b[43mkwds\u001b[49m\u001b[43m)\u001b[49m\n\u001b[1;32m    727\u001b[0m     \u001b[38;5;28mself\u001b[39m\u001b[38;5;241m.\u001b[39mset_xlim(\u001b[38;5;241m-\u001b[39m\u001b[38;5;241m2.01\u001b[39m, \u001b[38;5;241m2.01\u001b[39m)\n\u001b[1;32m    728\u001b[0m     \u001b[38;5;28mself\u001b[39m\u001b[38;5;241m.\u001b[39mset_ylim(\u001b[38;5;241m-\u001b[39m\u001b[38;5;241m1.01\u001b[39m, \u001b[38;5;241m1.01\u001b[39m)\n",
      "File \u001b[0;32m~/anaconda3/lib/python3.9/site-packages/healpy/projaxes.py:202\u001b[0m, in \u001b[0;36mSphericalProjAxes.projmap\u001b[0;34m(self, map, vec2pix_func, vmin, vmax, badval, badcolor, bgcolor, cmap, norm, rot, coord, **kwds)\u001b[0m\n\u001b[1;32m    200\u001b[0m ext \u001b[38;5;241m=\u001b[39m \u001b[38;5;28mself\u001b[39m\u001b[38;5;241m.\u001b[39mproj\u001b[38;5;241m.\u001b[39mget_extent()\n\u001b[1;32m    201\u001b[0m img \u001b[38;5;241m=\u001b[39m np\u001b[38;5;241m.\u001b[39mma\u001b[38;5;241m.\u001b[39mmasked_values(img, badval)\n\u001b[0;32m--> 202\u001b[0m aximg \u001b[38;5;241m=\u001b[39m \u001b[38;5;28;43mself\u001b[39;49m\u001b[38;5;241;43m.\u001b[39;49m\u001b[43mimshow\u001b[49m\u001b[43m(\u001b[49m\n\u001b[1;32m    203\u001b[0m \u001b[43m    \u001b[49m\u001b[43mimg\u001b[49m\u001b[43m,\u001b[49m\n\u001b[1;32m    204\u001b[0m \u001b[43m    \u001b[49m\u001b[43mextent\u001b[49m\u001b[38;5;241;43m=\u001b[39;49m\u001b[43mext\u001b[49m\u001b[43m,\u001b[49m\n\u001b[1;32m    205\u001b[0m \u001b[43m    \u001b[49m\u001b[43mcmap\u001b[49m\u001b[38;5;241;43m=\u001b[39;49m\u001b[43mcm\u001b[49m\u001b[43m,\u001b[49m\n\u001b[1;32m    206\u001b[0m \u001b[43m    \u001b[49m\u001b[43mnorm\u001b[49m\u001b[38;5;241;43m=\u001b[39;49m\u001b[43mnn\u001b[49m\u001b[43m,\u001b[49m\n\u001b[1;32m    207\u001b[0m \u001b[43m    \u001b[49m\u001b[43minterpolation\u001b[49m\u001b[38;5;241;43m=\u001b[39;49m\u001b[38;5;124;43m\"\u001b[39;49m\u001b[38;5;124;43mnearest\u001b[39;49m\u001b[38;5;124;43m\"\u001b[39;49m\u001b[43m,\u001b[49m\n\u001b[1;32m    208\u001b[0m \u001b[43m    \u001b[49m\u001b[43morigin\u001b[49m\u001b[38;5;241;43m=\u001b[39;49m\u001b[38;5;124;43m\"\u001b[39;49m\u001b[38;5;124;43mlower\u001b[39;49m\u001b[38;5;124;43m\"\u001b[39;49m\u001b[43m,\u001b[49m\n\u001b[1;32m    209\u001b[0m \u001b[43m    \u001b[49m\u001b[43mvmin\u001b[49m\u001b[38;5;241;43m=\u001b[39;49m\u001b[43mvmin\u001b[49m\u001b[43m,\u001b[49m\n\u001b[1;32m    210\u001b[0m \u001b[43m    \u001b[49m\u001b[43mvmax\u001b[49m\u001b[38;5;241;43m=\u001b[39;49m\u001b[43mvmax\u001b[49m\u001b[43m,\u001b[49m\n\u001b[1;32m    211\u001b[0m \u001b[43m    \u001b[49m\u001b[38;5;241;43m*\u001b[39;49m\u001b[38;5;241;43m*\u001b[39;49m\u001b[43mkwds\u001b[49m\n\u001b[1;32m    212\u001b[0m \u001b[43m\u001b[49m\u001b[43m)\u001b[49m\n\u001b[1;32m    213\u001b[0m xmin, xmax, ymin, ymax \u001b[38;5;241m=\u001b[39m \u001b[38;5;28mself\u001b[39m\u001b[38;5;241m.\u001b[39mproj\u001b[38;5;241m.\u001b[39mget_extent()\n\u001b[1;32m    214\u001b[0m \u001b[38;5;28mself\u001b[39m\u001b[38;5;241m.\u001b[39mset_xlim(xmin, xmax)\n",
      "File \u001b[0;32m~/anaconda3/lib/python3.9/site-packages/matplotlib/_api/deprecation.py:456\u001b[0m, in \u001b[0;36mmake_keyword_only.<locals>.wrapper\u001b[0;34m(*args, **kwargs)\u001b[0m\n\u001b[1;32m    450\u001b[0m \u001b[38;5;28;01mif\u001b[39;00m \u001b[38;5;28mlen\u001b[39m(args) \u001b[38;5;241m>\u001b[39m name_idx:\n\u001b[1;32m    451\u001b[0m     warn_deprecated(\n\u001b[1;32m    452\u001b[0m         since, message\u001b[38;5;241m=\u001b[39m\u001b[38;5;124m\"\u001b[39m\u001b[38;5;124mPassing the \u001b[39m\u001b[38;5;132;01m%(name)s\u001b[39;00m\u001b[38;5;124m \u001b[39m\u001b[38;5;132;01m%(obj_type)s\u001b[39;00m\u001b[38;5;124m \u001b[39m\u001b[38;5;124m\"\u001b[39m\n\u001b[1;32m    453\u001b[0m         \u001b[38;5;124m\"\u001b[39m\u001b[38;5;124mpositionally is deprecated since Matplotlib \u001b[39m\u001b[38;5;132;01m%(since)s\u001b[39;00m\u001b[38;5;124m; the \u001b[39m\u001b[38;5;124m\"\u001b[39m\n\u001b[1;32m    454\u001b[0m         \u001b[38;5;124m\"\u001b[39m\u001b[38;5;124mparameter will become keyword-only \u001b[39m\u001b[38;5;132;01m%(removal)s\u001b[39;00m\u001b[38;5;124m.\u001b[39m\u001b[38;5;124m\"\u001b[39m,\n\u001b[1;32m    455\u001b[0m         name\u001b[38;5;241m=\u001b[39mname, obj_type\u001b[38;5;241m=\u001b[39m\u001b[38;5;124mf\u001b[39m\u001b[38;5;124m\"\u001b[39m\u001b[38;5;124mparameter of \u001b[39m\u001b[38;5;132;01m{\u001b[39;00mfunc\u001b[38;5;241m.\u001b[39m\u001b[38;5;18m__name__\u001b[39m\u001b[38;5;132;01m}\u001b[39;00m\u001b[38;5;124m()\u001b[39m\u001b[38;5;124m\"\u001b[39m)\n\u001b[0;32m--> 456\u001b[0m \u001b[38;5;28;01mreturn\u001b[39;00m \u001b[43mfunc\u001b[49m\u001b[43m(\u001b[49m\u001b[38;5;241;43m*\u001b[39;49m\u001b[43margs\u001b[49m\u001b[43m,\u001b[49m\u001b[43m \u001b[49m\u001b[38;5;241;43m*\u001b[39;49m\u001b[38;5;241;43m*\u001b[39;49m\u001b[43mkwargs\u001b[49m\u001b[43m)\u001b[49m\n",
      "File \u001b[0;32m~/anaconda3/lib/python3.9/site-packages/matplotlib/__init__.py:1412\u001b[0m, in \u001b[0;36m_preprocess_data.<locals>.inner\u001b[0;34m(ax, data, *args, **kwargs)\u001b[0m\n\u001b[1;32m   1409\u001b[0m \u001b[38;5;129m@functools\u001b[39m\u001b[38;5;241m.\u001b[39mwraps(func)\n\u001b[1;32m   1410\u001b[0m \u001b[38;5;28;01mdef\u001b[39;00m \u001b[38;5;21minner\u001b[39m(ax, \u001b[38;5;241m*\u001b[39margs, data\u001b[38;5;241m=\u001b[39m\u001b[38;5;28;01mNone\u001b[39;00m, \u001b[38;5;241m*\u001b[39m\u001b[38;5;241m*\u001b[39mkwargs):\n\u001b[1;32m   1411\u001b[0m     \u001b[38;5;28;01mif\u001b[39;00m data \u001b[38;5;129;01mis\u001b[39;00m \u001b[38;5;28;01mNone\u001b[39;00m:\n\u001b[0;32m-> 1412\u001b[0m         \u001b[38;5;28;01mreturn\u001b[39;00m \u001b[43mfunc\u001b[49m\u001b[43m(\u001b[49m\u001b[43max\u001b[49m\u001b[43m,\u001b[49m\u001b[43m \u001b[49m\u001b[38;5;241;43m*\u001b[39;49m\u001b[38;5;28;43mmap\u001b[39;49m\u001b[43m(\u001b[49m\u001b[43msanitize_sequence\u001b[49m\u001b[43m,\u001b[49m\u001b[43m \u001b[49m\u001b[43margs\u001b[49m\u001b[43m)\u001b[49m\u001b[43m,\u001b[49m\u001b[43m \u001b[49m\u001b[38;5;241;43m*\u001b[39;49m\u001b[38;5;241;43m*\u001b[39;49m\u001b[43mkwargs\u001b[49m\u001b[43m)\u001b[49m\n\u001b[1;32m   1414\u001b[0m     bound \u001b[38;5;241m=\u001b[39m new_sig\u001b[38;5;241m.\u001b[39mbind(ax, \u001b[38;5;241m*\u001b[39margs, \u001b[38;5;241m*\u001b[39m\u001b[38;5;241m*\u001b[39mkwargs)\n\u001b[1;32m   1415\u001b[0m     auto_label \u001b[38;5;241m=\u001b[39m (bound\u001b[38;5;241m.\u001b[39marguments\u001b[38;5;241m.\u001b[39mget(label_namer)\n\u001b[1;32m   1416\u001b[0m                   \u001b[38;5;129;01mor\u001b[39;00m bound\u001b[38;5;241m.\u001b[39mkwargs\u001b[38;5;241m.\u001b[39mget(label_namer))\n",
      "File \u001b[0;32m~/anaconda3/lib/python3.9/site-packages/matplotlib/axes/_axes.py:5493\u001b[0m, in \u001b[0;36mAxes.imshow\u001b[0;34m(self, X, cmap, norm, aspect, interpolation, alpha, vmin, vmax, origin, extent, interpolation_stage, filternorm, filterrad, resample, url, **kwargs)\u001b[0m\n\u001b[1;32m   5490\u001b[0m \u001b[38;5;28;01mif\u001b[39;00m im\u001b[38;5;241m.\u001b[39mget_clip_path() \u001b[38;5;129;01mis\u001b[39;00m \u001b[38;5;28;01mNone\u001b[39;00m:\n\u001b[1;32m   5491\u001b[0m     \u001b[38;5;66;03m# image does not already have clipping set, clip to axes patch\u001b[39;00m\n\u001b[1;32m   5492\u001b[0m     im\u001b[38;5;241m.\u001b[39mset_clip_path(\u001b[38;5;28mself\u001b[39m\u001b[38;5;241m.\u001b[39mpatch)\n\u001b[0;32m-> 5493\u001b[0m \u001b[43mim\u001b[49m\u001b[38;5;241;43m.\u001b[39;49m\u001b[43m_scale_norm\u001b[49m\u001b[43m(\u001b[49m\u001b[43mnorm\u001b[49m\u001b[43m,\u001b[49m\u001b[43m \u001b[49m\u001b[43mvmin\u001b[49m\u001b[43m,\u001b[49m\u001b[43m \u001b[49m\u001b[43mvmax\u001b[49m\u001b[43m)\u001b[49m\n\u001b[1;32m   5494\u001b[0m im\u001b[38;5;241m.\u001b[39mset_url(url)\n\u001b[1;32m   5496\u001b[0m \u001b[38;5;66;03m# update ax.dataLim, and, if autoscaling, set viewLim\u001b[39;00m\n\u001b[1;32m   5497\u001b[0m \u001b[38;5;66;03m# to tightly fit the image, regardless of dataLim.\u001b[39;00m\n",
      "File \u001b[0;32m~/anaconda3/lib/python3.9/site-packages/matplotlib/cm.py:380\u001b[0m, in \u001b[0;36mScalarMappable._scale_norm\u001b[0;34m(self, norm, vmin, vmax)\u001b[0m\n\u001b[1;32m    378\u001b[0m     \u001b[38;5;28mself\u001b[39m\u001b[38;5;241m.\u001b[39mset_clim(vmin, vmax)\n\u001b[1;32m    379\u001b[0m     \u001b[38;5;28;01mif\u001b[39;00m norm \u001b[38;5;129;01mis\u001b[39;00m \u001b[38;5;129;01mnot\u001b[39;00m \u001b[38;5;28;01mNone\u001b[39;00m:\n\u001b[0;32m--> 380\u001b[0m         \u001b[38;5;28;01mraise\u001b[39;00m \u001b[38;5;167;01mValueError\u001b[39;00m(\n\u001b[1;32m    381\u001b[0m             \u001b[38;5;124m\"\u001b[39m\u001b[38;5;124mPassing parameters norm and vmin/vmax simultaneously is \u001b[39m\u001b[38;5;124m\"\u001b[39m\n\u001b[1;32m    382\u001b[0m             \u001b[38;5;124m\"\u001b[39m\u001b[38;5;124mnot supported. Please pass vmin/vmax directly to the \u001b[39m\u001b[38;5;124m\"\u001b[39m\n\u001b[1;32m    383\u001b[0m             \u001b[38;5;124m\"\u001b[39m\u001b[38;5;124mnorm when creating it.\u001b[39m\u001b[38;5;124m\"\u001b[39m)\n\u001b[1;32m    385\u001b[0m \u001b[38;5;66;03m# always resolve the autoscaling so we have concrete limits\u001b[39;00m\n\u001b[1;32m    386\u001b[0m \u001b[38;5;66;03m# rather than deferring to draw time.\u001b[39;00m\n\u001b[1;32m    387\u001b[0m \u001b[38;5;28mself\u001b[39m\u001b[38;5;241m.\u001b[39mautoscale_None()\n",
      "\u001b[0;31mValueError\u001b[0m: Passing parameters norm and vmin/vmax simultaneously is not supported. Please pass vmin/vmax directly to the norm when creating it."
     ]
    },
    {
     "data": {
      "image/png": "[encoded data removed]",
      "text/plain": [
       "<Figure size 612x388.8 with 1 Axes>"
      ]
     },
     "metadata": {
      "needs_background": "light"
     },
     "output_type": "display_data"
    }
   ],
   "source": [
    "#Healpy map of visible region of sky in a location at a time\n",
    "\n",
    "\n",
    "gsm = GlobalSkyModel(freq_unit='GHz')\n",
    "\n",
    "\n",
    "NPIX = hp.nside2npix(16)\n",
    "print(NPIX)\n",
    "\n",
    "spec = gsm.generate(2)\n",
    "hp.visufunc.mollview(spec)\n",
    "\n",
    "spec = hp.pixelfunc.ud_grade(spec,16)\n",
    "print(spec.shape)\n",
    "\n",
    "def Visible_Sky(frequency):#, latitude, longitude, altitude, T):\n",
    "    spectrum = gsm.generate(frequency)\n",
    "    spectrum = hp.pixelfunc.ud_grade(spectrum, 16)\n",
    "   # hp.visufunc.mollview(spectrum)\n",
    "    return spectrum\n",
    "#     i=1\n",
    "\n",
    "#     while i<NPIX:\n",
    "#         coords = hp.pixelfunc.pix2ang(16, i , nest = False, lonlat = True)\n",
    "#         gc = SkyCoord(l = coords[0]*u.degree, b= coords[1]*u.degree, frame = 'galactic')\n",
    "    \n",
    "#         equi = gc.transform_to(AltAz(obstime = T, location = EarthLocation(lat = latitude*u.deg, lon=longitude*u.deg, height=altitude*u.m)))\n",
    "\n",
    "#         if (equi.alt<0):\n",
    "#             spectrum[i-1] = -1.6375e+30\n",
    "    \n",
    "#         i = i+1  \n",
    "    \n",
    "\n",
    "        \n",
    "           \n",
    "spectrum_value = Visible_Sky(2)#,10,10,200,\"2022-05-15T12:00:00\")\n",
    "\n",
    "np.size(spectrum_value)\n",
    "hp.mollview(spectrum_value)"
   ]
  },
  {
   "cell_type": "code",
   "execution_count": 12,
   "id": "719f66ee",
   "metadata": {},
   "outputs": [
    {
     "name": "stdout",
     "output_type": "stream",
     "text": [
      "2001-01-02T12:34:56.092\n",
      "<SkyCoord (Galactic): (l, b) in deg\n",
      "    (45., 45.)>\n",
      "<SkyCoord (FK5: equinox=B2000.000): (ra, dec) in deg\n",
      "    (243.76172139, 27.00079808)>\n",
      "<SkyCoord (FK5: equinox=B1950.000): (ra, dec) in deg\n",
      "    (243.24854413, 27.12498657)>\n",
      "<SkyCoord (AltAz: obstime=2001-01-02T12:34:56.000, location=(1322691.97697601, -4612775.10525862, 4187510.55271101) m, pressure=0.0 hPa, temperature=0.0 deg_C, relative_humidity=0.0, obswl=1.0 micron): (az, alt) in deg\n",
      "    (114.57095509, 63.76845192)>\n"
     ]
    }
   ],
   "source": [
    "#Coordinate transformation\n",
    "\n",
    "t = Time('2001-01-02T12:34:56')\n",
    "\n",
    "t1 = t.ut1\n",
    "print(t1)\n",
    "gc = SkyCoord(l = 45*u.degree, b= 45*u.degree, frame = 'galactic')\n",
    "print(gc)\n",
    "\n",
    "#gc = SkyCoord(l = 45*u.degree, b= 45*u.degree, frame = 'galactic', equinox = 'B1950')\n",
    "#print(gc)\n",
    "\n",
    "radec = gc.transform_to(FK5(equinox = 'B2000'))\n",
    "print(radec)\n",
    "radec = gc.transform_to(FK5(equinox = 'B1950'))\n",
    "print(radec)\n",
    "\n",
    "\n",
    "Alt = radec.transform_to(AltAz(obstime = '2001-01-02T12:34:56', location = EarthLocation(lat = 41.3*u.deg, lon=-74*u.deg, height=0*u.m)))\n",
    "print(Alt)\n",
    "\n"
   ]
  },
  {
   "cell_type": "code",
   "execution_count": null,
   "id": "5341d51d",
   "metadata": {},
   "outputs": [],
   "source": []
  },
  {
   "cell_type": "code",
   "execution_count": 13,
   "id": "c0ecba14",
   "metadata": {},
   "outputs": [
    {
     "ename": "SyntaxError",
     "evalue": "invalid syntax (1441698665.py, line 1)",
     "output_type": "error",
     "traceback": [
      "\u001b[0;36m  Input \u001b[0;32mIn [13]\u001b[0;36m\u001b[0m\n\u001b[0;31m    int_time =\u001b[0m\n\u001b[0m               ^\u001b[0m\n\u001b[0;31mSyntaxError\u001b[0m\u001b[0;31m:\u001b[0m invalid syntax\n"
     ]
    }
   ],
   "source": [
    "int_time = "
   ]
  },
  {
   "cell_type": "code",
   "execution_count": 14,
   "id": "bd92fc52",
   "metadata": {},
   "outputs": [
    {
     "name": "stdout",
     "output_type": "stream",
     "text": [
      "        Frequency     Intensity\n",
      "0        0.009984  1.255914e-32\n",
      "1        0.010003  1.258055e-32\n",
      "2        0.010022  1.260196e-32\n",
      "3        0.010041  1.262337e-32\n",
      "4        0.010061  1.264478e-32\n",
      "...           ...           ...\n",
      "6835  4966.790300  2.870275e-33\n",
      "6836  4976.331500  2.601257e-33\n",
      "6837  4985.890900  2.353869e-33\n",
      "6838  4995.468700  2.126862e-33\n",
      "6839  5005.064900  1.918862e-33\n",
      "\n",
      "[6840 rows x 2 columns]\n"
     ]
    },
    {
     "name": "stderr",
     "output_type": "stream",
     "text": [
      "/tmp/ipykernel_32060/3840631725.py:4: ParserWarning: Falling back to the 'python' engine because the 'c' engine does not support regex separators (separators > 1 char and different from '\\s+' are interpreted as regex); you can avoid this warning by specifying engine='python'.\n",
      "  df = pd.read_csv(r'/home/dhashin/Downloads/total_spec_new.txt',sep= \"    \" ,header = None)\n"
     ]
    },
    {
     "data": {
      "image/png": "[encoded data removed]",
      "text/plain": [
       "<Figure size 432x288 with 1 Axes>"
      ]
     },
     "metadata": {
      "needs_background": "light"
     },
     "output_type": "display_data"
    }
   ],
   "source": [
    "import pandas as pd\n",
    "\n",
    "#a= np.loadtxt(r'/home/dhashin/Downloads/total_spec_new.dat')\n",
    "df = pd.read_csv(r'/home/dhashin/Downloads/total_spec_new.txt',sep= \"    \" ,header = None)\n",
    "\n",
    "\n",
    "df.reset_index(drop=True, inplace=True)\n",
    "df.columns = [\"Frequency\",\"Intensity\"]\n",
    "print(df)\n",
    "\n",
    "plt.plot(df[\"Frequency\"],df[\"Intensity\"])\n",
    "plt.xlabel('Frequency')\n",
    "plt.ylabel('Intensity')\n",
    "\n",
    "\n",
    "plt.show()"
   ]
  },
  {
   "cell_type": "code",
   "execution_count": 15,
   "id": "07620409",
   "metadata": {},
   "outputs": [
    {
     "data": {
      "text/plain": [
       "array(2.90507012e-27)"
      ]
     },
     "execution_count": 15,
     "metadata": {},
     "output_type": "execute_result"
    }
   ],
   "source": [
    "from scipy.interpolate import Rbf, InterpolatedUnivariateSpline\n",
    "\n",
    "x = df[\"Frequency\"]\n",
    "y= df[\"Intensity\"]\n",
    "\n",
    "ius = InterpolatedUnivariateSpline(x, y)\n",
    "ius(1000)\n",
    "\n",
    "\n"
   ]
  },
  {
   "cell_type": "code",
   "execution_count": 22,
   "id": "5901dc09",
   "metadata": {},
   "outputs": [
    {
     "name": "stdout",
     "output_type": "stream",
     "text": [
      "(21, 3145728)\n",
      "(21, 3072)\n",
      "<class 'numpy.float64'>\n",
      "1\n",
      "0\n",
      "<class 'list'>\n",
      "[9.080737647917299e-21, 1.0375483577080737e-20, 1.1774374012451249e-20, 1.3279221469799503e-20, 1.489162710309294e-20, 1.661298890354029e-20, 1.844450966772561e-20, 2.0387204740330672e-20, 2.2441909536826865e-20, 2.4609286851402196e-20, 2.688983395527587e-20, 2.9283889490442074e-20, 3.179164016377571e-20, 3.441312724632649e-20, 3.7148252882523374e-20, 3.999678621390888e-20, 4.295836932192296e-20, 4.603252299415721e-20, 4.921865231840476e-20, 5.2516052108736146e-20, 5.592391216773956e-20]\n"
     ]
    }
   ],
   "source": [
    "import numpy as np\n",
    "import pandas as pd\n",
    "\n",
    "from pygsm import GlobalSkyModel\n",
    "import healpy as hp\n",
    "\n",
    "\n",
    "import math\n",
    "h = 6.62607157e-34\n",
    "k = 1.3806488e-23\n",
    "c = 2.99792458e+08\n",
    "TCMB = 2.72548\n",
    "T_Cold = 273\n",
    "T_Hot = 373\n",
    "\n",
    "def rj_to_CMB(freq):\n",
    "    return (math.pow(h*freq/k*TCMB, 2) * math.exp(h*freq/k*TCMB))/(math.pow(math.exp(h*freq/k*TCMB) - 1, 2))  \n",
    "\n",
    "gsm = GlobalSkyModel(freq_unit='GHz')\n",
    "freqs = np.linspace(2, 4, 21)\n",
    "spectrum = gsm.generate(freqs)\n",
    "print(spectrum.shape)\n",
    "spectrum = hp.pixelfunc.ud_grade(spectrum, 16)\n",
    "print(spectrum.shape)\n",
    "\n",
    "df = pd.DataFrame(spectrum)\n",
    "df = df.transpose()\n",
    "\n",
    "\n",
    "df.columns = np.arange(2,4.1,0.1)\n",
    "\n",
    "for column in df:\n",
    "    df = (df * rj_to_CMB(float(column) *1000000000))\n",
    "    \n",
    "df = df + TCMB\n",
    "print(type(df.columns[0]))\n",
    "\n",
    "i = 0\n",
    "CMB_Int = [None]*21 \n",
    "P_Cold = [None]*21\n",
    "P_Hot = [None]*21\n",
    "P_Dif = [None]*21\n",
    "P_Sky_mul_T = [None]*21\n",
    "T_Sky = [None]*21\n",
    "y_new = [None]*21\n",
    "\n",
    "\n",
    "while i<21:\n",
    "    y_new[i] = ius(freqs[i])\n",
    "   \n",
    "\n",
    "\n",
    "    CMB_Int[i] = (2*h*math.pow(df.columns[i]*1e9,3.0)/(c*c*math.exp(h*df.columns[i]*1e9/k*TCMB)-1)) \n",
    "    P_Cold[i] = 0\n",
    "    P_Hot[i] = 1\n",
    "    P_Dif[i] = P_Hot[i]-P_Cold[i] \n",
    "\n",
    "    T_Sky[i] = CMB_Int[i]*100/P_Dif[i]\n",
    "\n",
    "\n",
    "    i = i+1\n",
    "\n",
    "print(P_Hot[0])\n",
    "print(P_Cold[0])\n",
    "print(type(y_new))\n",
    "print(T_Sky)"
   ]
  },
  {
   "cell_type": "code",
   "execution_count": 20,
   "id": "9f506c5e",
   "metadata": {},
   "outputs": [
    {
     "ename": "NameError",
     "evalue": "name 'ctemp' is not defined",
     "output_type": "error",
     "traceback": [
      "\u001b[0;31m---------------------------------------------------------------------------\u001b[0m",
      "\u001b[0;31mNameError\u001b[0m                                 Traceback (most recent call last)",
      "Input \u001b[0;32mIn [20]\u001b[0m, in \u001b[0;36m<cell line: 3>\u001b[0;34m()\u001b[0m\n\u001b[1;32m      1\u001b[0m j\u001b[38;5;241m=\u001b[39m\u001b[38;5;241m0\u001b[39m\n\u001b[1;32m      3\u001b[0m \u001b[38;5;28;01mwhile\u001b[39;00m j\u001b[38;5;241m<\u001b[39m\u001b[38;5;241m21\u001b[39m:\n\u001b[0;32m----> 4\u001b[0m     Intensity[i] \u001b[38;5;241m=\u001b[39m CMB_Int[j] \u001b[38;5;241m+\u001b[39m y_new[j]\u001b[38;5;241m+\u001b[39m ((\u001b[38;5;241m2\u001b[39m\u001b[38;5;241m*\u001b[39mdf\u001b[38;5;241m.\u001b[39mcolumns[j]\u001b[38;5;241m*\u001b[39m\u001b[38;5;241m1e9\u001b[39m\u001b[38;5;241m*\u001b[39mdf\u001b[38;5;241m.\u001b[39mcolumns[j]\u001b[38;5;241m*\u001b[39m\u001b[38;5;241m1e9\u001b[39m\u001b[38;5;241m*\u001b[39mk\u001b[38;5;241m*\u001b[39m\u001b[43mctemp\u001b[49m)\u001b[38;5;241m/\u001b[39m(c\u001b[38;5;241m*\u001b[39mc))\u001b[38;5;241m*\u001b[39m(c\u001b[38;5;241m*\u001b[39mc\u001b[38;5;241m/\u001b[39mdf\u001b[38;5;241m.\u001b[39mcolumns[j]\u001b[38;5;241m*\u001b[39mdf\u001b[38;5;241m.\u001b[39mcolumns[j])  \n\u001b[1;32m      5\u001b[0m     final_temp \u001b[38;5;241m=\u001b[39m (Intensity \u001b[38;5;241m/\u001b[39m P_Dif)\u001b[38;5;241m*\u001b[39m (T_Hot \u001b[38;5;241m-\u001b[39m T_Cold)\n",
      "\u001b[0;31mNameError\u001b[0m: name 'ctemp' is not defined"
     ]
    }
   ],
   "source": [
    "j=0\n",
    "\n",
    "while j<21:\n",
    "    Intensity[i] = CMB_Int[j] + y_new[j]+ ((2*df.columns[j]*1e9*df.columns[j]*1e9*k*ctemp)/(c*c))*(c*c/df.columns[j]*df.columns[j])  \n",
    "    final_temp = (Intensity / P_Dif)* (T_Hot - T_Cold)\n",
    "\n",
    "    \n",
    "    "
   ]
  },
  {
   "cell_type": "code",
   "execution_count": null,
   "id": "bda6fb30",
   "metadata": {},
   "outputs": [],
   "source": []
  },
  {
   "cell_type": "code",
   "execution_count": null,
   "id": "0c525cc9",
   "metadata": {},
   "outputs": [],
   "source": []
  }
 ],
 "metadata": {
  "kernelspec": {
   "display_name": "Python 3 (ipykernel)",
   "language": "python",
   "name": "python3"
  },
  "language_info": {
   "codemirror_mode": {
    "name": "ipython",
    "version": 3
   },
   "file_extension": ".py",
   "mimetype": "text/x-python",
   "name": "python",
   "nbconvert_exporter": "python",
   "pygments_lexer": "ipython3",
   "version": "3.9.12"
  }
 },
 "nbformat": 4,
 "nbformat_minor": 5
}
