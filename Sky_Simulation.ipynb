{
 "cells": [
  {
   "cell_type": "markdown",
   "metadata": {},
   "source": [
    "### **Importing required packages:**"
   ]
  },
  {
   "cell_type": "code",
   "execution_count": null,
   "metadata": {},
   "outputs": [],
   "source": []
  },
  {
   "cell_type": "code",
   "execution_count": null,
   "metadata": {},
   "outputs": [],
   "source": [
    "import healpy as hp\n",
    "import numpy as np\n",
    "import matplotlib.pyplot as plt\n",
    "import math\n",
    "\n",
    "\n",
    "%matplotlib inline\n",
    "\n",
    "import pygsm\n",
    "from pygsm import GlobalSkyModel2016\n",
    "\n",
    "import ephem\n",
    "from astropy.time import Time\n",
    "from astropy.coordinates import Galactic, SkyCoord, FK5, EarthLocation, AltAz, Angle\n",
    "import astropy.units as u\n",
    "\n",
    "import pandas as pd\n",
    "from scipy.interpolate import Rbf, InterpolatedUnivariateSpline"
   ]
  },
  {
   "cell_type": "markdown",
   "metadata": {},
   "source": [
    "### **Defining some constants:**"
   ]
  },
  {
   "cell_type": "code",
   "execution_count": null,
   "metadata": {},
   "outputs": [],
   "source": [
    "h = 6.62607157e-34\n",
    "k = 1.3806488e-23\n",
    "c = 2.99792458e+08\n",
    "TCMB = 2.72548\n",
    "f_start = 0.1\n",
    "f_stop = 8\n",
    "No_of_Channels = 80\n",
    "Channel_width = 0.1\n",
    "N_SIDE = 16\n",
    "T_hot = 373\n",
    "T_cold = 273         #T_cold and T_hot in Kelvins\n",
    "Time_in_UTC = '2022-05-23 00:00:00'  \n",
    "latitude = 12.9716\n",
    "longitude = 77.5946        #Latitude and longitude in degrees\n",
    "altitude = 920            #Altitude in meters\n",
    "alpha = 0.0065            #Temp. lapse rate (deg C per meter)\n",
    "PI = 3.14159265\n",
    "\n",
    "gsm = GlobalSkyModel2016(freq_unit='GHz')\n",
    "spec_map = gsm.generate(2)\n",
    "print(max(spec_map))\n",
    "hp.mollview(spec_map)"
   ]
  },
  {
   "cell_type": "markdown",
   "metadata": {},
   "source": [
    "### **Sky Model part code below:** "
   ]
  },
  {
   "cell_type": "code",
   "execution_count": null,
   "metadata": {},
   "outputs": [],
   "source": [
    "NPIX = hp.nside2npix(N_SIDE)\n",
    "T = np.empty(NPIX)\n",
    "\n",
    "gsm = GlobalSkyModel2016(freq_unit='GHz')\n",
    "\n",
    "#**Generating maps for frequencies from 2 to 4 GHz in increment of 0.1 GHz:**\n",
    "\n",
    "freqs = np.linspace(f_start,f_stop, No_of_Channels)\n",
    "CMB_Int = np.empty(No_of_Channels)\n",
    "P_hot = np.empty(No_of_Channels)\n",
    "P_cold = np.empty(No_of_Channels)\n",
    "P_dif = np.empty(No_of_Channels)\n",
    "spectrum = gsm.generate(freqs)\n",
    "\n",
    "#Decreasing the resolution to NSIDE = 16\n",
    "\n",
    "spec = hp.pixelfunc.ud_grade(spectrum, N_SIDE)\n",
    "df = pd.DataFrame(spec)\n",
    "df = df.transpose()\n",
    "df.columns = np.arange(f_start,f_stop+Channel_width,Channel_width)\n",
    "df = df*1e-20 \n",
    "#Basically 1e-20 factor is to convert MJy/Sr (PyGSM pack has this units) to W/m^2 Hz (SI units)\n",
    "\n",
    "\n",
    "\n",
    "#Calculation of CMB intensity below for each frequencies\n",
    "\n",
    "i=0\n",
    "while i<No_of_Channels:\n",
    "    #Calculation of CMB intensities at different frequencies below\n",
    "    CMB_Int[i] = (2*h*math.pow(df.columns[i]*1e9,3.0)/(c*c*math.exp(h*df.columns[i]*1e9/k*TCMB)-1))\n",
    "    #P_hot and P_cold calculation for calibration below\n",
    "    P_hot[i] = 2*k*T_hot*(((h*df.columns[i])/(k*T_hot))/(math.exp((h*df.columns[i])/(k*T_hot))-1));   \n",
    "    P_cold[i] = 2*k*T_cold*(((h*df.columns[i])/(k*T_cold))/(math.exp((h*df.columns[i])/(k*T_cold))-1));   \n",
    "    P_dif[i] = P_hot[i] - P_cold[i]      \n",
    "    \n",
    "    i=i+1\n",
    "    \n",
    "\n",
    "CMB = pd.DataFrame(CMB_Int)\n",
    "CMB = CMB.transpose()\n",
    "CMB.columns = np.arange(f_start,f_stop+Channel_width,Channel_width)\n",
    "CMB = CMB.transpose()\n",
    "df = df.transpose()\n",
    "\n",
    "CMB_plus_Gal = np.add(df, CMB.to_numpy())    #Adding CMB and Galactic contribution intensities in SI units. Recombination line intensity is added later.\n",
    "print(CMB_plus_Gal)\n",
    "# print(P_hot)\n",
    "# print(P_cold)\n",
    "print(P_dif)\n",
    "\n",
    "\n",
    "\n",
    "\n",
    "\n"
   ]
  },
  {
   "cell_type": "markdown",
   "metadata": {},
   "source": [
    "### **LST calculation and Coordinate transform:**"
   ]
  },
  {
   "cell_type": "code",
   "execution_count": null,
   "metadata": {},
   "outputs": [],
   "source": [
    "#Sidereal time calculation\n",
    "\n",
    "Obs = ephem.Observer()\n",
    "t = Time(Time_in_UTC, scale='utc',location=(longitude, latitude))\n",
    "lst = t.sidereal_time('apparent')\n",
    "print(lst)\n",
    "\n",
    "\n",
    "#Checking the number of pixels\n",
    "\n",
    "NPIX = hp.nside2npix(N_SIDE)\n",
    "print(NPIX)\n",
    "\n",
    "i=1\n",
    "alt = np.empty(NPIX)\n",
    "az = np.empty(NPIX)\n",
    "\n",
    "#For every pixel, get the horizontal coordinate. \n",
    "\n",
    "while i<NPIX:\n",
    "    coords = hp.pixelfunc.pix2ang(N_SIDE, i , nest = False, lonlat = True)\n",
    "    gc = SkyCoord(l = coords[0]*u.degree, b= coords[1]*u.degree, frame = 'galactic')\n",
    "    \n",
    "    radec = gc.transform_to(FK5(equinox = 'B2000')) \n",
    "    #I think there is some error here or maybe I got any concept wrong. When I use different equinox, say B1950, I am getting different radec as expected. But when I use that radec to transform to equitorial coords, I am getting same equi. coords again! \n",
    "\n",
    "    equi = radec.transform_to(AltAz(obstime = Time_in_UTC, location = EarthLocation(lat = latitude*u.deg, lon=longitude*u.deg, height=altitude*u.m)))\n",
    "    \n",
    "    #Getting the magnitude of azimuthal value alone in deg\n",
    "    az[i-1]= equi.az .value \n",
    "    \n",
    "    #Getting the magnitude of altitude value alone in deg\n",
    "    alt[i-1] = equi.alt .value \n",
    "    \n",
    "    i=i+1\n",
    "\n",
    "print(az) #List of az for each pixel as an array\n",
    "print(alt) #List of alt for each pixel as an array\n"
   ]
  },
  {
   "cell_type": "markdown",
   "metadata": {},
   "source": [
    "### **Recombination data: Intensity vs frequency**"
   ]
  },
  {
   "cell_type": "code",
   "execution_count": null,
   "metadata": {},
   "outputs": [],
   "source": [
    "df = pd.read_csv(r'/home/dhashin/workspace/APSERa/total_spec_new.txt',sep= \"    \" ,header = None)\n",
    "\n",
    "\n",
    "df.reset_index(drop=True, inplace=True)\n",
    "df.columns = [\"Frequency\",\"Intensity\"]\n",
    "# #print(df)\n",
    "\n",
    "# #ploting graph of intensity vs frequency\n",
    "\n",
    "# plt.plot(df[\"Frequency\"],df[\"Intensity\"])\n",
    "# plt.xlim(10,100)\n",
    "# plt.xlabel('Frequency(GHz)')\n",
    "# plt.ylabel('Intensity(W/(Hzm^2)')\n",
    "\n",
    "# #plt.show()\n",
    "\n",
    "x = df[\"Frequency\"]\n",
    "y= df[\"Intensity\"]\n",
    "\n",
    "ius = InterpolatedUnivariateSpline(x, y)\n",
    "\n",
    "Rec_int = ius(np.arange(f_start,f_stop+Channel_width,Channel_width))\n",
    "Rec_spec = pd.DataFrame(Rec_int)\n",
    "print(Rec_spec)     #Getting intensities at the required frequencies\n",
    "\n",
    "Total_sky = np.add(CMB_plus_Gal, Rec_spec.to_numpy())     #Adding reco. signal with gala. signal and CMB (All in SI units)\n",
    "print(Total_sky)\n",
    "print((np.array(Total_sky[3071]))[0])\n",
    "\n",
    "P_dif = pd.DataFrame(P_dif)\n",
    "#print(P_dif)\n",
    "\n",
    "T_sky = (T_hot - T_cold)* np.divide(Total_sky,P_dif)   \n",
    "print(T_sky)\n",
    "\n",
    "plt.scatter(T_sky.index,np.array(T_sky[2000]))\n",
    "\n",
    "\n"
   ]
  },
  {
   "cell_type": "markdown",
   "metadata": {},
   "source": [
    "### **Function to generate map of visible sky given the location and time:**"
   ]
  },
  {
   "cell_type": "code",
   "execution_count": null,
   "metadata": {},
   "outputs": [],
   "source": [
    "NPIX = hp.nside2npix(16)\n",
    "print(NPIX)\n",
    "\n",
    "gsm = GlobalSkyModel2016(freq_unit='GHz')\n",
    "\n",
    "\n",
    "def Visible_Sky(frequency, latitude, longitude, altitude, T):           #Here frequency is taken in GHz, lat and lon in degrees and T is the format 'YYYY-MM-DD HH:MM:SS.SS'\n",
    "    spectrum = gsm.generate(frequency)\n",
    "    spectrum = hp.pixelfunc.ud_grade(spectrum, 16)                      #Reducing the resolution to NSIDE=16\n",
    "\n",
    "    i=1\n",
    "\n",
    "    while i<NPIX:           #Working on each pixel\n",
    "        coords = hp.pixelfunc.pix2ang(N_SIDE, i , nest = False, lonlat = True)          #Gives l and b coordinates for each pixel\n",
    "        gc = SkyCoord(l = coords[0]*u.degree, b= coords[1]*u.degree, frame = 'galactic')\n",
    "        \n",
    "        #Now, the coordinates in Galactic frame is changed to equitorial frame below\n",
    "        equi = gc.transform_to(AltAz(obstime = T, location = EarthLocation(lat = latitude*u.deg, lon=longitude*u.deg, height=altitude*u.m)))\n",
    "        \n",
    "        #If alt<0 in horizontal coordinates, that is not visible for the observer. So, suxh pixels are given minimum value (grey in map)\n",
    "        if (equi.alt<0):\n",
    "            spectrum[i-1] = -1.6375e+30\n",
    "    \n",
    "        i = i+1  \n",
    "    hp.mollview(spectrum)\n",
    "    \n",
    "spectrum_value = Visible_Sky(2,latitude,longitude,altitude,Time_in_UTC)\n",
    "print(spectrum_value)\n"
   ]
  },
  {
   "cell_type": "code",
   "execution_count": null,
   "metadata": {},
   "outputs": [],
   "source": [
    "#Changing intensity to temperature scale\n",
    "\n",
    "# for cols in df:\n",
    "#     df[cols] = df[cols].apply(lambda x:(h* df.columns*1e9)/(k) * (0.5 + (x*1.25664e-20*c*c/(2*h*df.columns*df.columns*df.columns*1e27))))\n"
   ]
  },
  {
   "cell_type": "markdown",
   "metadata": {},
   "source": [
    "### **Calculating az, alt for each pixels and adding refraction correction:**"
   ]
  },
  {
   "cell_type": "code",
   "execution_count": null,
   "metadata": {},
   "outputs": [],
   "source": [
    "def refraction(alt_in_deg, altitude):\n",
    "    pres = 1010.*math.pow((1-6.5/288000*altitude),5.255)\n",
    "    if (altitude>11000):\n",
    "        temp = 211.5\n",
    "    else:\n",
    "        temp = 283.0 - (alpha * altitude)\n",
    "    R = 1.02/math.tan((alt_in_deg + (10.3/(alt_in_deg + 5.11)))*(PI/180))\n",
    "    if (alt_in_deg == 90):\n",
    "        R = R+ 0.0019279\n",
    "    tpcor = (pres/1000) * (283/temp)\n",
    "    R =  tpcor*(R/60)\n",
    "    return alt_in_deg +R\n",
    "\n",
    "\n",
    "def beam_def(freq, az, alt):\n",
    "    if (alt<=0):\n",
    "        return 0\n",
    "    else:\n",
    "        return (math.sin(alt*PI/180)*math.sin(alt*PI/180))"
   ]
  },
  {
   "cell_type": "code",
   "execution_count": null,
   "metadata": {},
   "outputs": [],
   "source": [
    "#alt = np.empty(NPIX)\n",
    "#new_alt = np.empty(NPIX)\n",
    "cross_real = [0]*No_of_Channels\n",
    "sumwt = [0]*No_of_Channels\n",
    "\n",
    "\n",
    "i=1\n",
    "while i<NPIX:           #Working on each pixel\n",
    "    coords = hp.pixelfunc.pix2ang(16, i , nest = False, lonlat = True)          #Gives l and b coordinates for each pixel\n",
    "    gc = SkyCoord(l = coords[0]*u.degree, b= coords[1]*u.degree, frame = 'galactic')\n",
    "        \n",
    "        #Now, the coordinates in Galactic frame is changed to equitorial frame below\n",
    "    equi = gc.transform_to(AltAz(obstime = Time_in_UTC, location = EarthLocation(lat = latitude*u.deg, lon=longitude*u.deg, height=altitude*u.m)))\n",
    "    alt = equi.alt.value\n",
    "    new_alt = refraction(alt, altitude) \n",
    "    \n",
    "    \n",
    "    \n",
    "    j=0\n",
    "    while j< No_of_Channels:\n",
    "        cwt = beam_def(freqs[j],equi.az.value, new_alt)\n",
    "\n",
    "        if (cwt>0):\n",
    "            cross_real[j]= cross_real[j] + cwt * (np.array(T_sky[i-1]))[j]\n",
    "            sumwt[j] = sumwt[j]+ cwt\n",
    "        \n",
    "        j=j+1\n",
    "    \n",
    "    i=i+1\n",
    "\n",
    "#plt.scatter(freqs,cross_real, c='lightblue')\n",
    "    \n",
    "i=0    \n",
    "while(i< No_of_Channels):\n",
    "    if sumwt[i]>0:\n",
    "        cross_real[i] = cross_real[i]/sumwt[i]\n",
    "    i = i+1\n",
    "\n",
    "print(cross_real)\n",
    "plt.scatter(freqs,cross_real, c= 'darkblue')\n"
   ]
  },
  {
   "cell_type": "markdown",
   "metadata": {},
   "source": [
    "### **Antenna part**"
   ]
  },
  {
   "cell_type": "code",
   "execution_count": null,
   "metadata": {},
   "outputs": [],
   "source": [
    "def beam_def(freq, az, alt):\n",
    "    if (alt<=0):\n",
    "        return 0\n",
    "    else:\n",
    "        return (math.sin(alt*PI/180)*math.sin(alt*PI/180))\n",
    "    \n",
    "print(beam_def(2,30,30))"
   ]
  },
  {
   "cell_type": "code",
   "execution_count": null,
   "metadata": {},
   "outputs": [],
   "source": [
    "# generate random Gaussian values\n",
    "from random import seed\n",
    "from random import gauss\n",
    "# seed random number generator\n",
    "# seed(0)\n",
    "\n",
    "def gasdev(mean, std, no_of_values):\n",
    "    nums= []\n",
    "    for _ in range(no_of_values):\n",
    "        value = gauss(mean, std)\n",
    "        nums.append(value)\n",
    "    return nums    \n",
    "\n",
    "print(gasdev(5,1,10))\n"
   ]
  },
  {
   "cell_type": "code",
   "execution_count": null,
   "metadata": {},
   "outputs": [],
   "source": [
    "\n",
    "# generate random Gaussian values\n",
    "from numpy.random import seed\n",
    "from numpy.random import randn\n",
    "# seed random number generator\n",
    "seed(1)\n",
    "# generate some Gaussian values\n",
    "values = randn(10)\n",
    "print(values)"
   ]
  },
  {
   "cell_type": "code",
   "execution_count": null,
   "metadata": {},
   "outputs": [],
   "source": []
  }
 ],
 "metadata": {
  "kernelspec": {
   "display_name": "Python 3",
   "language": "python",
   "name": "python3"
  },
  "language_info": {
   "codemirror_mode": {
    "name": "ipython",
    "version": 3
   },
   "file_extension": ".py",
   "mimetype": "text/x-python",
   "name": "python",
   "nbconvert_exporter": "python",
   "pygments_lexer": "ipython3",
   "version": "3.7.3"
  }
 },
 "nbformat": 4,
 "nbformat_minor": 5
}
