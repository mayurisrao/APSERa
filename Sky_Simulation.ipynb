{
 "cells": [
  {
   "cell_type": "markdown",
   "id": "cb2cc21e",
   "metadata": {},
   "source": [
    "## **Importing required packages:**"
   ]
  },
  {
   "cell_type": "code",
   "execution_count": 1,
   "id": "18a1f60f",
   "metadata": {},
   "outputs": [],
   "source": [
    "import healpy as hp\n",
    "import numpy as np\n",
    "import matplotlib.pyplot as plt\n",
    "import math\n",
    "\n",
    "%matplotlib inline\n",
    "\n",
    "import pygsm\n",
    "from pygsm import GlobalSkyModel\n",
    "\n",
    "import ephem\n",
    "from astropy.time import Time\n",
    "from astropy.coordinates import Galactic, SkyCoord, FK5, EarthLocation, AltAz\n",
    "import astropy.units as u\n",
    "\n",
    "import pandas as pd\n",
    "from scipy.interpolate import Rbf, InterpolatedUnivariateSpline"
   ]
  },
  {
   "cell_type": "markdown",
   "id": "f2290a89",
   "metadata": {},
   "source": [
    "## **Defining some constants:**"
   ]
  },
  {
   "cell_type": "code",
   "execution_count": 4,
   "id": "e8e83c03",
   "metadata": {},
   "outputs": [],
   "source": [
    "h = 6.62607157e-34\n",
    "k = 1.3806488e-23\n",
    "c = 2.99792458e+08\n",
    "TCMB = 2.72548\n"
   ]
  },
  {
   "cell_type": "markdown",
   "id": "38f985cc",
   "metadata": {},
   "source": [
    "## **Sky Model part code below:** "
   ]
  },
  {
   "cell_type": "code",
   "execution_count": 42,
   "id": "73d658a1",
   "metadata": {
    "collapsed": true
   },
   "outputs": [
    {
     "name": "stdout",
     "output_type": "stream",
     "text": [
      "                0             1             2             3             4  \\\n",
      "2.0  1.953688e-21  1.762710e-21  1.851912e-21  1.907997e-21  2.063368e-21   \n",
      "2.1  1.668324e-21  1.504584e-21  1.582071e-21  1.630682e-21  1.762666e-21   \n",
      "2.2  1.437505e-21  1.295934e-21  1.363677e-21  1.406094e-21  1.519318e-21   \n",
      "2.3  1.249786e-21  1.126370e-21  1.185943e-21  1.223188e-21  1.321296e-21   \n",
      "2.4  1.095265e-21  9.868828e-22  1.039554e-21  1.072446e-21  1.158213e-21   \n",
      "2.5  9.649981e-22  8.693141e-22  9.161179e-22  9.453138e-22  1.020701e-21   \n",
      "2.6  8.543407e-22  7.694615e-22  8.112450e-22  8.372812e-22  9.038698e-22   \n",
      "2.7  7.597572e-22  6.841282e-22  7.215904e-22  7.449092e-22  8.039922e-22   \n",
      "2.8  6.784478e-22  6.107834e-22  6.445050e-22  6.654739e-22  7.181172e-22   \n",
      "2.9  6.081765e-22  5.474063e-22  5.778731e-22  5.967991e-22  6.438876e-22   \n",
      "3.0  5.471432e-22  4.923701e-22  5.199912e-22  5.371327e-22  5.794055e-22   \n",
      "3.1  4.938877e-22  4.443553e-22  4.694773e-22  4.850529e-22  5.231314e-22   \n",
      "3.2  4.472175e-22  4.022846e-22  4.252025e-22  4.393982e-22  4.738076e-22   \n",
      "3.3  4.061521e-22  3.652723e-22  3.862386e-22  3.992135e-22  4.304001e-22   \n",
      "3.4  3.698806e-22  3.325859e-22  3.518178e-22  3.637087e-22  3.920536e-22   \n",
      "3.5  3.377284e-22  3.036161e-22  3.213013e-22  3.322262e-22  3.580564e-22   \n",
      "3.6  3.091313e-22  2.778535e-22  2.941548e-22  3.042161e-22  3.278133e-22   \n",
      "3.7  2.836148e-22  2.548698e-22  2.699289e-22  2.792157e-22  3.008238e-22   \n",
      "3.8  2.607784e-22  2.343032e-22  2.482443e-22  2.568344e-22  2.766652e-22   \n",
      "3.9  2.402822e-22  2.158469e-22  2.287787e-22  2.367404e-22  2.549786e-22   \n",
      "4.0  2.218363e-22  1.992394e-22  2.112578e-22  2.186512e-22  2.354583e-22   \n",
      "\n",
      "                5             6             7             8             9  \\\n",
      "2.0  1.960594e-21  1.763791e-21  1.666449e-21  1.764991e-21  1.836091e-21   \n",
      "2.1  1.675331e-21  1.505246e-21  1.423594e-21  1.508829e-21  1.569044e-21   \n",
      "2.2  1.444493e-21  1.296361e-21  1.227098e-21  1.301373e-21  1.352811e-21   \n",
      "2.3  1.256665e-21  1.126700e-21  1.067238e-21  1.132419e-21  1.176743e-21   \n",
      "2.4  1.101978e-21  9.871974e-22  9.356054e-22  9.931695e-22  1.031662e-21   \n",
      "2.5  9.715247e-22  8.696233e-22  8.246116e-22  8.757134e-22  9.093110e-22   \n",
      "2.6  8.606702e-22  7.697698e-22  7.303072e-22  7.758878e-22  8.053463e-22   \n",
      "2.7  7.658835e-22  6.844382e-22  6.496847e-22  6.905192e-22  7.164567e-22   \n",
      "2.8  6.843688e-22  6.110964e-22  5.803623e-22  6.170937e-22  6.400196e-22   \n",
      "2.9  6.138929e-22  5.477228e-22  5.204380e-22  5.536034e-22  5.739400e-22   \n",
      "3.0  5.526579e-22  4.926900e-22  4.683800e-22  4.984311e-22  5.165308e-22   \n",
      "3.1  4.992050e-22  4.446783e-22  4.229460e-22  4.502648e-22  4.664234e-22   \n",
      "3.2  4.523427e-22  4.026103e-22  3.831212e-22  4.080324e-22  4.224997e-22   \n",
      "3.3  4.110913e-22  3.655999e-22  3.480711e-22  3.708526e-22  3.838403e-22   \n",
      "3.4  3.746402e-22  3.329149e-22  3.171056e-22  3.379958e-22  3.496845e-22   \n",
      "3.5  3.423150e-22  3.039459e-22  2.896504e-22  3.088553e-22  3.193995e-22   \n",
      "3.6  3.135517e-22  2.781834e-22  2.652251e-22  2.829232e-22  2.924559e-22   \n",
      "3.7  2.878758e-22  2.551991e-22  2.434260e-22  2.597725e-22  2.684084e-22   \n",
      "3.8  2.648867e-22  2.346316e-22  2.239119e-22  2.390425e-22  2.468810e-22   \n",
      "3.9  2.442441e-22  2.161738e-22  2.063931e-22  2.204270e-22  2.275545e-22   \n",
      "4.0  2.256583e-22  1.995643e-22  1.906231e-22  2.036648e-22  2.101568e-22   \n",
      "\n",
      "     ...          3063          3064          3065          3066  \\\n",
      "2.0  ...  2.218834e-21  2.047402e-21  1.979552e-21  1.937300e-21   \n",
      "2.1  ...  1.897670e-21  1.751205e-21  1.693189e-21  1.655177e-21   \n",
      "2.2  ...  1.637401e-21  1.511134e-21  1.461042e-21  1.426799e-21   \n",
      "2.3  ...  1.425277e-21  1.315439e-21  1.271765e-21  1.240902e-21   \n",
      "2.4  ...  1.250335e-21  1.154024e-21  1.115617e-21  1.087762e-21   \n",
      "2.5  ...  1.102740e-21  1.017836e-21  9.838743e-22  9.586290e-22   \n",
      "2.6  ...  9.772761e-22  9.020636e-22  8.718833e-22  8.489119e-22   \n",
      "2.7  ...  8.699610e-22  8.030354e-22  7.760921e-22  7.551129e-22   \n",
      "2.8  ...  7.776422e-22  7.178427e-22  6.936867e-22  6.744618e-22   \n",
      "2.9  ...  6.978000e-22  6.441612e-22  6.224187e-22  6.047458e-22   \n",
      "3.0  ...  6.284053e-22  5.801193e-22  5.604769e-22  5.441831e-22   \n",
      "3.1  ...  5.678116e-22  5.241977e-22  5.063916e-22  4.913282e-22   \n",
      "3.2  ...  5.146733e-22  4.751553e-22  4.589618e-22  4.450005e-22   \n",
      "3.3  ...  4.678839e-22  4.319713e-22  4.171999e-22  4.042290e-22   \n",
      "3.4  ...  4.265276e-22  3.938007e-22  3.802883e-22  3.682105e-22   \n",
      "3.5  ...  3.898425e-22  3.599405e-22  3.475467e-22  3.362769e-22   \n",
      "3.6  ...  3.571908e-22  3.298023e-22  3.184060e-22  3.078692e-22   \n",
      "3.7  ...  3.280362e-22  3.028915e-22  2.923873e-22  2.825174e-22   \n",
      "3.8  ...  3.019257e-22  2.787897e-22  2.690860e-22  2.598244e-22   \n",
      "3.9  ...  2.784743e-22  2.571421e-22  2.481588e-22  2.394534e-22   \n",
      "4.0  ...  2.573543e-22  2.376460e-22  2.293127e-22  2.211172e-22   \n",
      "\n",
      "             3067          3068          3069          3070          3071  \\\n",
      "2.0  2.056134e-21  2.125396e-21  2.094679e-21  2.016225e-21  1.928778e-21   \n",
      "2.1  1.757042e-21  1.817081e-21  1.790703e-21  1.724042e-21  1.648188e-21   \n",
      "2.2  1.514858e-21  1.567303e-21  1.544499e-21  1.487288e-21  1.421006e-21   \n",
      "2.3  1.317658e-21  1.363802e-21  1.343965e-21  1.294358e-21  1.236040e-21   \n",
      "2.4  1.155162e-21  1.196028e-21  1.178672e-21  1.135269e-21  1.083637e-21   \n",
      "2.5  1.018126e-21  1.054507e-21  1.039248e-21  1.001063e-21  9.551137e-22   \n",
      "2.6  9.016853e-22  9.342291e-22  9.207525e-22  8.869926e-22  8.459056e-22   \n",
      "2.7  8.021305e-22  8.313702e-22  8.194181e-22  7.894341e-22  7.525339e-22   \n",
      "2.8  7.165240e-22  7.429023e-22  7.322611e-22  7.055180e-22  6.722435e-22   \n",
      "2.9  6.425188e-22  6.664061e-22  6.568979e-22  6.329515e-22  6.028334e-22   \n",
      "3.0  5.782254e-22  5.999333e-22  5.914089e-22  5.698882e-22  5.425314e-22   \n",
      "3.1  5.221106e-22  5.419028e-22  5.342366e-22  5.148296e-22  4.898995e-22   \n",
      "3.2  4.729220e-22  4.910231e-22  4.841085e-22  4.665515e-22  4.437633e-22   \n",
      "3.3  4.296297e-22  4.462319e-22  4.399782e-22  4.240469e-22  4.031568e-22   \n",
      "3.4  3.913816e-22  4.066504e-22  4.009798e-22  3.864829e-22  3.672811e-22   \n",
      "3.5  3.574690e-22  3.715471e-22  3.663929e-22  3.531659e-22  3.354713e-22   \n",
      "3.6  3.272987e-22  3.403101e-22  3.356146e-22  3.235160e-22  3.071713e-22   \n",
      "3.7  3.003720e-22  3.124249e-22  3.081380e-22  2.970453e-22  2.819134e-22   \n",
      "3.8  2.762679e-22  2.874567e-22  2.835350e-22  2.733415e-22  2.593025e-22   \n",
      "3.9  2.546286e-22  2.650363e-22  2.614419e-22  2.520548e-22  2.390034e-22   \n",
      "4.0  2.351495e-22  2.448493e-22  2.415488e-22  2.328868e-22  2.207303e-22   \n",
      "\n",
      "     CMB Intensity  \n",
      "2.0   9.080738e-23  \n",
      "2.1   1.037548e-22  \n",
      "2.2   1.177437e-22  \n",
      "2.3   1.327922e-22  \n",
      "2.4   1.489163e-22  \n",
      "2.5   1.661299e-22  \n",
      "2.6   1.844451e-22  \n",
      "2.7   2.038720e-22  \n",
      "2.8   2.244191e-22  \n",
      "2.9   2.460929e-22  \n",
      "3.0   2.688983e-22  \n",
      "3.1   2.928389e-22  \n",
      "3.2   3.179164e-22  \n",
      "3.3   3.441313e-22  \n",
      "3.4   3.714825e-22  \n",
      "3.5   3.999679e-22  \n",
      "3.6   4.295837e-22  \n",
      "3.7   4.603252e-22  \n",
      "3.8   4.921865e-22  \n",
      "3.9   5.251605e-22  \n",
      "4.0   5.592391e-22  \n",
      "\n",
      "[21 rows x 3073 columns]\n"
     ]
    }
   ],
   "source": [
    "NPIX = hp.nside2npix(16)\n",
    "T = np.empty(NPIX)\n",
    "\n",
    "gsm = GlobalSkyModel(freq_unit='GHz')\n",
    "\n",
    "#**Generating maps for frequencies from 2 to 4 GHz in increment of 100MHz:**\n",
    "\n",
    "freqs = np.linspace(2,4, 21)\n",
    "CMB_Int = np.empty(21)\n",
    "spectrum = gsm.generate(freqs)\n",
    "\n",
    "#Decreasing the resolution to NSIDE = 16\n",
    "\n",
    "spec = hp.pixelfunc.ud_grade(spectrum,16)\n",
    "df = pd.DataFrame(spec)\n",
    "df = df.transpose()\n",
    "df.columns = np.arange(2,4.1,0.1)\n",
    "df = df*1e-20\n",
    "#Basically 1e-20 factor is to convert MJy/Sr (PyGSM pack has this units) to W/m^2 Hz (SI units)\n",
    "\n",
    "\n",
    "\n",
    "#Calculation of CMB intensity below\n",
    "\n",
    "i=0\n",
    "while i<21:\n",
    "    CMB_Int[i] = (2*h*math.pow(df.columns[i]*1e9,3.0)/(c*c*math.exp(h*df.columns[i]*1e9/k*TCMB)-1))\n",
    "    i=i+1\n",
    "    \n",
    "\n",
    "CMB = pd.DataFrame(CMB_Int)\n",
    "CMB.columns = ['CMB Intensity']\n",
    "CMB = CMB.transpose()\n",
    "CMB.columns = np.arange(2,4.1,0.1)\n",
    "CMB = CMB.transpose()\n",
    "\n",
    "\n",
    "df = df.transpose()\n",
    "new_df = pd.concat((df, CMB), axis=1)\n",
    "\n",
    "print(new_df)\n",
    "\n",
    "\n",
    "for cols in new_df:\n",
    "    "
   ]
  },
  {
   "cell_type": "markdown",
   "id": "6fbc3baa",
   "metadata": {},
   "source": [
    "## **LST calculation and Coordinate transform:**"
   ]
  },
  {
   "cell_type": "code",
   "execution_count": 5,
   "id": "779d76e6",
   "metadata": {
    "collapsed": true
   },
   "outputs": [
    {
     "name": "stdout",
     "output_type": "stream",
     "text": [
      "8h04m49.48176101s\n",
      "3072\n",
      "[6.16171970e+001 6.58797488e+001 6.92308200e+001 ... 2.45044232e+002\n",
      " 2.41621672e+002 6.91769637e-310]\n",
      "[ 4.05126470e+001  4.31621157e+001  3.98745462e+001 ... -3.73540173e+001\n",
      " -4.05179033e+001  6.91769635e-310]\n"
     ]
    }
   ],
   "source": [
    "#Sidereal time calculation\n",
    "\n",
    "Obs = ephem.Observer()\n",
    "t = Time('2022-05-09 16:15:00.0000', scale='utc',location=('10', '0'))\n",
    "lst = t.sidereal_time('apparent')\n",
    "print(lst)\n",
    "\n",
    "\n",
    "#Checking the number of pixels\n",
    "\n",
    "NPIX = hp.nside2npix(16)\n",
    "print(NPIX)\n",
    "\n",
    "i=1\n",
    "alt = np.empty(NPIX)\n",
    "az = np.empty(NPIX)\n",
    "\n",
    "#For every pixel, get the horizontal coordinate. \n",
    "\n",
    "while i<NPIX:\n",
    "    coords = hp.pixelfunc.pix2ang(16, i , nest = False, lonlat = True)\n",
    "    gc = SkyCoord(l = coords[0]*u.degree, b= coords[1]*u.degree, frame = 'galactic')\n",
    "    \n",
    "    equi = gc.transform_to(AltAz(obstime = '2022-06-08T11:10:10.10', location = EarthLocation(lat = 12.9716*u.deg, lon=77.5946*u.deg, height=900*u.m)))\n",
    "    \n",
    "    #Getting the magnitude of azimuthal value alone in deg\n",
    "    az[i-1]= equi.az .value \n",
    "    \n",
    "    #Getting the magnitude of altitude value alone in deg\n",
    "    alt[i-1] = equi.alt .value \n",
    "    \n",
    "    i=i+1\n",
    "\n",
    "print(az) #List of az for each pixel as an array\n",
    "print(alt) #List of alt for each pixel as an array\n"
   ]
  },
  {
   "cell_type": "markdown",
   "id": "c9fe2d1b",
   "metadata": {},
   "source": [
    "## **Recombination data: Intensity vs frequency**"
   ]
  },
  {
   "cell_type": "code",
   "execution_count": 2,
   "id": "e3c077ba",
   "metadata": {
    "collapsed": true
   },
   "outputs": [
    {
     "name": "stderr",
     "output_type": "stream",
     "text": [
      "/tmp/ipykernel_4825/2477689297.py:1: ParserWarning: Falling back to the 'python' engine because the 'c' engine does not support regex separators (separators > 1 char and different from '\\s+' are interpreted as regex); you can avoid this warning by specifying engine='python'.\n",
      "  df = pd.read_csv(r'/home/dhashin/Downloads/total_spec_new.txt',sep= \"    \" ,header = None)\n"
     ]
    },
    {
     "name": "stdout",
     "output_type": "stream",
     "text": [
      "        Frequency     Intensity\n",
      "0        0.009984  1.255914e-32\n",
      "1        0.010003  1.258055e-32\n",
      "2        0.010022  1.260196e-32\n",
      "3        0.010041  1.262337e-32\n",
      "4        0.010061  1.264478e-32\n",
      "...           ...           ...\n",
      "6835  4966.790300  2.870275e-33\n",
      "6836  4976.331500  2.601257e-33\n",
      "6837  4985.890900  2.353869e-33\n",
      "6838  4995.468700  2.126862e-33\n",
      "6839  5005.064900  1.918862e-33\n",
      "\n",
      "[6840 rows x 2 columns]\n"
     ]
    },
    {
     "data": {
      "image/png": "[encoded data removed]",
      "text/plain": [
       "<Figure size 432x288 with 1 Axes>"
      ]
     },
     "metadata": {
      "needs_background": "light"
     },
     "output_type": "display_data"
    }
   ],
   "source": [
    "df = pd.read_csv(r'/home/dhashin/Downloads/total_spec_new.txt',sep= \"    \" ,header = None)\n",
    "\n",
    "\n",
    "df.reset_index(drop=True, inplace=True)\n",
    "df.columns = [\"Frequency\",\"Intensity\"]\n",
    "print(df)\n",
    "\n",
    "#ploting graph of intensity vs frequency\n",
    "\n",
    "plt.plot(df[\"Frequency\"],df[\"Intensity\"])\n",
    "plt.xlim(10,100)\n",
    "plt.xlabel('Frequency(GHz)')\n",
    "plt.ylabel('Intensity(W/(Hzm^2)')\n",
    "\n",
    "plt.show()\n",
    "\n",
    "x = df[\"Frequency\"]\n",
    "y= df[\"Intensity\"]\n",
    "\n",
    "ius = InterpolatedUnivariateSpline(x, y)"
   ]
  },
  {
   "cell_type": "markdown",
   "id": "6ab5450f",
   "metadata": {},
   "source": [
    "## **Function to generate map of visible sky given the location and time:**"
   ]
  },
  {
   "cell_type": "code",
   "execution_count": 17,
   "id": "f1a44db1",
   "metadata": {
    "collapsed": true
   },
   "outputs": [
    {
     "name": "stdout",
     "output_type": "stream",
     "text": [
      "3072\n",
      "[-1.63750000e+30 -1.63750000e+30 -1.63750000e+30 ...  2.09467862e-01\n",
      "  2.01622466e-01  1.92877833e-01]\n",
      "None\n"
     ]
    }
   ],
   "source": [
    "NPIX = hp.nside2npix(16)\n",
    "print(NPIX)\n",
    "\n",
    "gsm = GlobalSkyModel(freq_unit='GHz')\n",
    "\n",
    "\n",
    "def Visible_Sky(frequency, latitude, longitude, altitude, T):           #Here frequency is taken in GHz, lat and lon in degrees and T is the format 'YYYY-MM-DD HH:MM:SS.SS'\n",
    "    spectrum = gsm.generate(frequency)\n",
    "    spectrum = hp.pixelfunc.ud_grade(spectrum, 16)                      #Reducing the resolution to NSIDE=16\n",
    "\n",
    "    i=1\n",
    "\n",
    "    while i<NPIX:           #Working on each pixel\n",
    "        coords = hp.pixelfunc.pix2ang(16, i , nest = False, lonlat = True)          #Gives l and b coordinates for each pixel\n",
    "        gc = SkyCoord(l = coords[0]*u.degree, b= coords[1]*u.degree, frame = 'galactic')\n",
    "        \n",
    "        #Now, the coordinates in Galactic frame is changed to equitorial frame below\n",
    "        equi = gc.transform_to(AltAz(obstime = T, location = EarthLocation(lat = latitude*u.deg, lon=longitude*u.deg, height=altitude*u.m)))\n",
    "        \n",
    "        #If alt<0 in horizontal coordinates, that is not visible for the observer. So, suxh pixels are given minimum value (grey in map)\n",
    "        if (equi.alt<0):\n",
    "            spectrum[i-1] = -1.6375e+30\n",
    "    \n",
    "        i = i+1  \n",
    "    print(spectrum)\n",
    "    \n",
    "spectrum_value = Visible_Sky(2,10,10,200,'2022-05-15 12:00:00')\n",
    "print(spectrum_value)\n"
   ]
  },
  {
   "cell_type": "markdown",
   "id": "d8e52866",
   "metadata": {},
   "source": [
    "Remember: CMB intensity addition"
   ]
  },
  {
   "cell_type": "code",
   "execution_count": null,
   "id": "2549b2b6",
   "metadata": {},
   "outputs": [],
   "source": [
    "#Changing intensity to temperature scale\n",
    "\n",
    "# for cols in df:\n",
    "#     df[cols] = df[cols].apply(lambda x:(h* df.columns*1e9)/(k) * (0.5 + (x*1.25664e-20*c*c/(2*h*df.columns*df.columns*df.columns*1e27))))\n",
    "\n"
   ]
  }
 ],
 "metadata": {
  "kernelspec": {
   "display_name": "Python 3 (ipykernel)",
   "language": "python",
   "name": "python3"
  },
  "language_info": {
   "codemirror_mode": {
    "name": "ipython",
    "version": 3
   },
   "file_extension": ".py",
   "mimetype": "text/x-python",
   "name": "python",
   "nbconvert_exporter": "python",
   "pygments_lexer": "ipython3",
   "version": "3.9.12"
  }
 },
 "nbformat": 4,
 "nbformat_minor": 5
}
