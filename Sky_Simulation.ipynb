{
 "cells": [
  {
   "cell_type": "markdown",
   "id": "cb2cc21e",
   "metadata": {},
   "source": [
    "### **Importing required packages:**"
   ]
  },
  {
   "cell_type": "code",
   "execution_count": null,
   "id": "18a1f60f",
   "metadata": {},
   "outputs": [],
   "source": [
    "import healpy as hp\n",
    "import numpy as np\n",
    "import matplotlib.pyplot as plt\n",
    "import math\n",
    "\n",
    "%matplotlib inline\n",
    "\n",
    "import pygsm\n",
    "from pygsm import GlobalSkyModel\n",
    "\n",
    "import ephem\n",
    "from astropy.time import Time\n",
    "from astropy.coordinates import Galactic, SkyCoord, FK5, EarthLocation, AltAz, Angle\n",
    "import astropy.units as u\n",
    "\n",
    "import pandas as pd\n",
    "from scipy.interpolate import Rbf, InterpolatedUnivariateSpline"
   ]
  },
  {
   "cell_type": "markdown",
   "id": "f2290a89",
   "metadata": {},
   "source": [
    "### **Defining some constants:**"
   ]
  },
  {
   "cell_type": "code",
   "execution_count": null,
   "id": "e8e83c03",
   "metadata": {},
   "outputs": [],
   "source": [
    "h = 6.62607157e-34\n",
    "k = 1.3806488e-23\n",
    "c = 2.99792458e+08\n",
    "TCMB = 2.72548\n"
   ]
  },
  {
   "cell_type": "markdown",
   "id": "38f985cc",
   "metadata": {},
   "source": [
    "### **Sky Model part code below:** "
   ]
  },
  {
   "cell_type": "code",
   "execution_count": null,
   "id": "c38aec7a",
   "metadata": {},
   "outputs": [],
   "source": [
    "NPIX = hp.nside2npix(16)\n",
    "T = np.empty(NPIX)\n",
    "\n",
    "gsm = GlobalSkyModel(freq_unit='GHz')\n",
    "\n",
    "#**Generating maps for frequencies from 2 to 4 GHz in increment of 100MHz:**\n",
    "\n",
    "freqs = np.linspace(2,4, 21)\n",
    "CMB_Int = np.empty(21)\n",
    "P_hot = np.empty(21)\n",
    "P_cold = np.empty(21)\n",
    "P_dif = np.empty(21)\n",
    "spectrum = gsm.generate(freqs)\n",
    "\n",
    "#Decreasing the resolution to NSIDE = 16\n",
    "\n",
    "spec = hp.pixelfunc.ud_grade(spectrum,16)\n",
    "df = pd.DataFrame(spec)\n",
    "df = df.transpose()\n",
    "df.columns = np.arange(2,4.1,0.1)\n",
    "df = df*1e-20\n",
    "#Basically 1e-20 factor is to convert MJy/Sr (PyGSM pack has this units) to W/m^2 Hz (SI units)\n",
    "\n",
    "\n",
    "\n",
    "#Calculation of CMB intensity below for each frequencies\n",
    "\n",
    "i=0\n",
    "while i<21:\n",
    "    #Calculation of CMB intensities at different frequencies below\n",
    "    CMB_Int[i] = (2*h*math.pow(df.columns[i]*1e9,3.0)/(c*c*math.exp(h*df.columns[i]*1e9/k*TCMB)-1))\n",
    "    #P_hot and P_cold calculation for calibration below\n",
    "    P_hot[i] = (df.columns[i]*373)   #Dummy function. Have to look the function\n",
    "    P_cold[i] = (df.columns[i]*273)    #Dummy function. Haven't looked the function still\n",
    "    P_dif[i] = P_hot[i] - P_cold[i]      #Dummy... its obvious now!\n",
    "    \n",
    "    i=i+1\n",
    "    \n",
    "\n",
    "CMB = pd.DataFrame(CMB_Int)\n",
    "CMB = CMB.transpose()\n",
    "CMB.columns = np.arange(2,4.1,0.1)\n",
    "CMB = CMB.transpose()\n",
    "df = df.transpose()\n",
    "\n",
    "CMB_plus_Gal = np.add(df, CMB.to_numpy())    #Adding CMB and Galactic contribution intensities in SI units. Recombination line intensity is added later.\n",
    "print(CMB_plus_Gal)\n",
    "print(P_dif)\n",
    "\n",
    "\n",
    "\n",
    "\n",
    "\n"
   ]
  },
  {
   "cell_type": "markdown",
   "id": "6fbc3baa",
   "metadata": {},
   "source": [
    "### **LST calculation and Coordinate transform:**"
   ]
  },
  {
   "cell_type": "code",
   "execution_count": null,
   "id": "779d76e6",
   "metadata": {},
   "outputs": [],
   "source": [
    "#Sidereal time calculation\n",
    "\n",
    "Obs = ephem.Observer()\n",
    "t = Time('2022-05-09 16:15:00.0000', scale='utc',location=('10', '0'))\n",
    "lst = t.sidereal_time('apparent')\n",
    "print(lst)\n",
    "\n",
    "\n",
    "#Checking the number of pixels\n",
    "\n",
    "NPIX = hp.nside2npix(16)\n",
    "print(NPIX)\n",
    "\n",
    "i=1\n",
    "alt = np.empty(NPIX)\n",
    "az = np.empty(NPIX)\n",
    "\n",
    "#For every pixel, get the horizontal coordinate. \n",
    "\n",
    "while i<NPIX:\n",
    "    coords = hp.pixelfunc.pix2ang(16, i , nest = False, lonlat = True)\n",
    "    gc = SkyCoord(l = coords[0]*u.degree, b= coords[1]*u.degree, frame = 'galactic')\n",
    "    \n",
    "    equi = gc.transform_to(AltAz(obstime = '2022-06-08T11:10:10.10', location = EarthLocation(lat = 12.9716*u.deg, lon=77.5946*u.deg, height=900*u.m)))\n",
    "    \n",
    "    #Getting the magnitude of azimuthal value alone in deg\n",
    "    az[i-1]= equi.az .value \n",
    "    \n",
    "    #Getting the magnitude of altitude value alone in deg\n",
    "    alt[i-1] = equi.alt .value \n",
    "    \n",
    "    i=i+1\n",
    "\n",
    "print(az) #List of az for each pixel as an array\n",
    "print(alt) #List of alt for each pixel as an array\n"
   ]
  },
  {
   "cell_type": "markdown",
   "id": "c9fe2d1b",
   "metadata": {},
   "source": [
    "### **Recombination data: Intensity vs frequency**"
   ]
  },
  {
   "cell_type": "code",
   "execution_count": null,
   "id": "e3c077ba",
   "metadata": {},
   "outputs": [],
   "source": [
    "df = pd.read_csv(r'/home/dhashin/Downloads/total_spec_new.txt',sep= \"    \" ,header = None)\n",
    "\n",
    "\n",
    "df.reset_index(drop=True, inplace=True)\n",
    "df.columns = [\"Frequency\",\"Intensity\"]\n",
    "print(df)\n",
    "\n",
    "#ploting graph of intensity vs frequency\n",
    "\n",
    "plt.plot(df[\"Frequency\"],df[\"Intensity\"])\n",
    "plt.xlim(10,5000)\n",
    "plt.xlabel('Frequency(GHz)')\n",
    "plt.ylabel('Intensity(W/(Hzm^2)')\n",
    "\n",
    "plt.show()\n",
    "\n",
    "x = df[\"Frequency\"]\n",
    "y= df[\"Intensity\"]\n",
    "\n",
    "ius = InterpolatedUnivariateSpline(x, y)\n",
    "\n",
    "y = ius(np.arange(2,4.1,0.1))\n",
    "Rec_spec = pd.DataFrame(y)\n",
    "print(Rec_spec)     #Getting intensities at the required frequencies\n",
    "\n",
    "Total_sky = np.add(CMB_plus_Gal, Rec_spec.to_numpy())     #Adding reco. signal with gala. signal and CMB (All in SI units)\n",
    "print(Total_sky)\n",
    "\n",
    "P_dif = pd.DataFrame(P_dif)\n",
    "print(P_dif)\n",
    "\n",
    "T_sky = 100* np.divide(Total_sky,P_dif)   #100K is the difference of T_hot and T_cold. \n",
    "print(T_sky)\n",
    "\n",
    "\n"
   ]
  },
  {
   "cell_type": "markdown",
   "id": "6ab5450f",
   "metadata": {},
   "source": [
    "### **Function to generate map of visible sky given the location and time:**"
   ]
  },
  {
   "cell_type": "code",
   "execution_count": null,
   "id": "f1a44db1",
   "metadata": {},
   "outputs": [],
   "source": [
    "NPIX = hp.nside2npix(16)\n",
    "print(NPIX)\n",
    "\n",
    "gsm = GlobalSkyModel(freq_unit='GHz')\n",
    "\n",
    "\n",
    "def Visible_Sky(frequency, latitude, longitude, altitude, T):           #Here frequency is taken in GHz, lat and lon in degrees and T is the format 'YYYY-MM-DD HH:MM:SS.SS'\n",
    "    spectrum = gsm.generate(frequency)\n",
    "    spectrum = hp.pixelfunc.ud_grade(spectrum, 16)                      #Reducing the resolution to NSIDE=16\n",
    "\n",
    "    i=1\n",
    "\n",
    "    while i<NPIX:           #Working on each pixel\n",
    "        coords = hp.pixelfunc.pix2ang(16, i , nest = False, lonlat = True)          #Gives l and b coordinates for each pixel\n",
    "        gc = SkyCoord(l = coords[0]*u.degree, b= coords[1]*u.degree, frame = 'galactic')\n",
    "        \n",
    "        #Now, the coordinates in Galactic frame is changed to equitorial frame below\n",
    "        equi = gc.transform_to(AltAz(obstime = T, location = EarthLocation(lat = latitude*u.deg, lon=longitude*u.deg, height=altitude*u.m)))\n",
    "        \n",
    "        #If alt<0 in horizontal coordinates, that is not visible for the observer. So, suxh pixels are given minimum value (grey in map)\n",
    "        if (equi.alt<0):\n",
    "            spectrum[i-1] = -1.6375e+30\n",
    "    \n",
    "        i = i+1  \n",
    "    print(spectrum)\n",
    "    \n",
    "spectrum_value = Visible_Sky(2,10,10,200,'2022-05-15 12:00:00')\n",
    "print(spectrum_value)\n"
   ]
  },
  {
   "cell_type": "code",
   "execution_count": null,
   "id": "e39f0539",
   "metadata": {},
   "outputs": [],
   "source": [
    "#Changing intensity to temperature scale\n",
    "\n",
    "# for cols in df:\n",
    "#     df[cols] = df[cols].apply(lambda x:(h* df.columns*1e9)/(k) * (0.5 + (x*1.25664e-20*c*c/(2*h*df.columns*df.columns*df.columns*1e27))))\n"
   ]
  },
  {
   "cell_type": "markdown",
   "id": "e11ddcf0",
   "metadata": {},
   "source": [
    "### **Calculating az, alt for each pixels and adding refraction correction:**"
   ]
  },
  {
   "cell_type": "code",
   "execution_count": null,
   "id": "07caa4c2",
   "metadata": {},
   "outputs": [],
   "source": [
    "latitude = 12.9716\n",
    "longitude = 77.5946\n",
    "altitude = 900\n",
    "T = '2022-05-22 12:00:00.00'\n",
    "\n",
    "def refraction(a, b):\n",
    "    return 1         #Dummy function just to check for errors\n",
    "\n",
    "i=1\n",
    "while i<NPIX:           #Working on each pixel\n",
    "    coords = hp.pixelfunc.pix2ang(16, i , nest = False, lonlat = True)          #Gives l and b coordinates for each pixel\n",
    "    gc = SkyCoord(l = coords[0]*u.degree, b= coords[1]*u.degree, frame = 'galactic')\n",
    "        \n",
    "        #Now, the coordinates in Galactic frame is changed to equitorial frame below\n",
    "    equi = gc.transform_to(AltAz(obstime = T, location = EarthLocation(lat = latitude*u.deg, lon=longitude*u.deg, height=altitude*u.m)))\n",
    "    alt = refraction(equi.alt, altitude)\n",
    "    \n",
    "    print(alt)\n",
    "    i=i+1\n"
   ]
  },
  {
   "cell_type": "code",
   "execution_count": null,
   "id": "b5af350d",
   "metadata": {},
   "outputs": [],
   "source": []
  },
  {
   "cell_type": "code",
   "execution_count": null,
   "id": "851b7c18",
   "metadata": {},
   "outputs": [],
   "source": []
  }
 ],
 "metadata": {
  "kernelspec": {
   "display_name": "Python 3 (ipykernel)",
   "language": "python",
   "name": "python3"
  },
  "language_info": {
   "codemirror_mode": {
    "name": "ipython",
    "version": 3
   },
   "file_extension": ".py",
   "mimetype": "text/x-python",
   "name": "python",
   "nbconvert_exporter": "python",
   "pygments_lexer": "ipython3",
   "version": "3.9.12"
  }
 },
 "nbformat": 4,
 "nbformat_minor": 5
}
