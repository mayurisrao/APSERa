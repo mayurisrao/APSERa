{
 "cells": [
  {
   "cell_type": "markdown",
   "id": "bdf7f677",
   "metadata": {},
   "source": [
    "# This notebook is used to calculate sensitivity of APSERa "
   ]
  },
  {
   "cell_type": "markdown",
   "id": "a0b1ec9a",
   "metadata": {},
   "source": [
    "## Import packages"
   ]
  },
  {
   "cell_type": "code",
   "execution_count": 11,
   "id": "9767f32b",
   "metadata": {},
   "outputs": [],
   "source": [
    "import numpy as np\n",
    "import astropy as ap\n",
    "from astropy import units as u\n",
    "from scipy import constants"
   ]
  },
  {
   "cell_type": "markdown",
   "id": "32bb8893",
   "metadata": {},
   "source": [
    "## Define APSERa parameters"
   ]
  },
  {
   "cell_type": "code",
   "execution_count": 46,
   "id": "58b4b6cf",
   "metadata": {},
   "outputs": [
    {
     "data": {
      "text/latex": [
       "$\\mathrm{}$"
      ],
      "text/plain": [
       "Unit(dimensionless)"
      ]
     },
     "execution_count": 46,
     "metadata": {},
     "output_type": "execute_result"
    }
   ],
   "source": [
    "beam_sigma = 60*u.deg\n",
    "threshold_K = 50*u.Kelvin\n",
    "freq_low = 2*u.GHz\n",
    "freq_high = 4*u.GHz\n",
    "freq_mid = 3*u.GHz\n",
    "lambda_lo = (constants.c/freq_low)*u.meter \n",
    "lambda_hi = (constants.c/freq_high)*u.meter \n",
    "lambda_hi.unit\n",
    "lambda_mid = (constants.c/freq_mid)*u.meter \n",
    "Ae_mid = ((lambda_mid**2)/(4*np.pi))*(u.GHz*u.GHz)/(u.meter*u.meter)\n",
    "Ae_mid.unit"
   ]
  },
  {
   "cell_type": "markdown",
   "id": "7519f28b",
   "metadata": {},
   "source": [
    "## Define functions"
   ]
  },
  {
   "cell_type": "code",
   "execution_count": 52,
   "id": "aac638f5",
   "metadata": {},
   "outputs": [],
   "source": [
    "deg2rad = np.pi/180\n",
    "rad2deg = 180/np.pi\n",
    "int2Tb = lambda S,wavelength,theta: S*1e-26*wavelength*wavelength/(2*constants.k*theta*theta) "
   ]
  },
  {
   "cell_type": "markdown",
   "id": "bb90b845",
   "metadata": {},
   "source": [
    "# Unit conversions"
   ]
  },
  {
   "cell_type": "code",
   "execution_count": 49,
   "id": "ad02eb28",
   "metadata": {},
   "outputs": [
    {
     "data": {
      "text/latex": [
       "$1723.0337 \\; \\mathrm{K}$"
      ],
      "text/plain": [
       "<Quantity 1723.03372735 K>"
      ]
     },
     "execution_count": 49,
     "metadata": {},
     "output_type": "execute_result"
    }
   ],
   "source": [
    "beam_sigma_rad = beam_sigma*deg2rad\n",
    "beam_area = 2*np.pi*(beam_sigma_rad)**2\n",
    "equiv = u.brightness_temperature(freq_mid)\n",
    "(1*u.MJy/beam_area).to(u.K, equivalencies=equiv)"
   ]
  },
  {
   "cell_type": "code",
   "execution_count": 53,
   "id": "cc898fa9",
   "metadata": {},
   "outputs": [
    {
     "name": "stdout",
     "output_type": "stream",
     "text": [
      "3.297830893814981e+18 m2 / (deg2 GHz2)\n"
     ]
    }
   ],
   "source": [
    "FRB_max_S = 1e6\n",
    "APSERa_FRB_max_T = int2Tb(FRB_max_S,lambda_mid,beam_sigma_rad)\n",
    "print(APSERa_FRB_max_T)"
   ]
  },
  {
   "cell_type": "code",
   "execution_count": null,
   "id": "e1af09c1",
   "metadata": {},
   "outputs": [],
   "source": []
  }
 ],
 "metadata": {
  "kernelspec": {
   "display_name": "Python [conda env:gsm] *",
   "language": "python",
   "name": "conda-env-gsm-py"
  },
  "language_info": {
   "codemirror_mode": {
    "name": "ipython",
    "version": 3
   },
   "file_extension": ".py",
   "mimetype": "text/x-python",
   "name": "python",
   "nbconvert_exporter": "python",
   "pygments_lexer": "ipython3",
   "version": "3.9.16"
  }
 },
 "nbformat": 4,
 "nbformat_minor": 5
}
